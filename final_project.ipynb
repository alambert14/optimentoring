{
 "cells": [
  {
   "cell_type": "code",
   "execution_count": 1,
   "id": "f63f8ba8",
   "metadata": {},
   "outputs": [],
   "source": [
    "using CSV, DataFrames, JuMP, Gurobi, LinearAlgebra, Random"
   ]
  },
  {
   "cell_type": "code",
   "execution_count": 2,
   "id": "b99ef01c",
   "metadata": {},
   "outputs": [],
   "source": [
    "# Constants\n",
    "\n",
    "nP = 73 # number of people\n",
    "nT = 210 # number of timeslots in a week\n",
    "# Organized in 30 minute interals from 9am-12pm, Sunday-Saturday\n",
    "# 30 intervals/day * 7 days/week\n",
    "cM = 1e7 # multiplier for the minimal matching objective\n",
    "\n",
    "print(\"\")"
   ]
  },
  {
   "cell_type": "code",
   "execution_count": 3,
   "id": "53e40abe",
   "metadata": {},
   "outputs": [],
   "source": [
    "# Load Data\n",
    "\n",
    "# 0-1 matrix of whether person can mentor/mentee at time T\n",
    "load_A = Matrix(CSV.read(\"schedules.csv\", DataFrame, header=0))[3:end, 2:end]  # nP x nT\n",
    "A = zeros(nP, nT)\n",
    "for i in 1:nP, j in 1:nT\n",
    "    A[i, j] = parse(Int64, load_A[i, j])\n",
    "end\n",
    "\n",
    "\n",
    "# for these, what if someone is only a mentor or only a mentee? would it be zero?\n",
    "aR = Matrix(CSV.read(\"num_sessions.csv\", DataFrame))[:, 2] # nP x 1: max num of session person can mentor\n",
    "# \n",
    "# aE = Matrix(CSV.read(\"max_menteeing.csv\", DataFrame)) # nP x 1: max num of session person can mentee (can we remove this?)\n",
    "r  = Matrix(CSV.read(\"rank.csv\", DataFrame, header=0))[:, 2]# nP x 1, rank\n",
    "\n",
    "# Don't we just need one per person? Lessens the amount of data, plus not everyone is a mentor or mentee\n",
    "p = Matrix(CSV.read(\"poomsae_pref.csv\", DataFrame))[:, 2]\n",
    "s = Matrix(CSV.read(\"sparring_pref.csv\", DataFrame))[:, 2]\n",
    "# pR = Matrix(CSV.read(\"mentor_poomsae.csv\", DataFrame)) # nP x 1: 0-1 does mentor prefer poomsae \n",
    "# pE = Matrix(CSV.read(\"mentee_poomsae.csv\", DataFrame)) # nP x 1: 0-1 does mentee prefer poomsae\n",
    "# sR = Matrix(CSV.read(\"mentor_sparring.csv\", DataFrame)) # nP x 1: 0-1 does mentor prefer sparring\n",
    "# sE = Matrix(CSV.read(\"mentee_sparring.csv\")) # nP x 1: 0-1 does mentee prefer sparring\n",
    "\n",
    "print(\"\")"
   ]
  },
  {
   "cell_type": "code",
   "execution_count": 4,
   "id": "61e9b0d4",
   "metadata": {},
   "outputs": [
    {
     "ename": "LoadError",
     "evalue": "BoundsError: attempt to access 72-element Vector{Any} at index [73]",
     "output_type": "error",
     "traceback": [
      "BoundsError: attempt to access 72-element Vector{Any} at index [73]",
      "",
      "Stacktrace:",
      " [1] getindex(A::Vector{Any}, i1::Int64)",
      "   @ Base ./array.jl:924",
      " [2] top-level scope",
      "   @ ./In[4]:11",
      " [3] eval",
      "   @ ./boot.jl:368 [inlined]",
      " [4] include_string(mapexpr::typeof(REPL.softscope), mod::Module, code::String, filename::String)",
      "   @ Base ./loading.jl:1428"
     ]
    }
   ],
   "source": [
    "# Create Cost Matrix\n",
    "\n",
    "alpha = 1\n",
    "beta  = 1\n",
    "\n",
    "C = zeros(nP, nP)\n",
    "\n",
    "# Adjusting to only have one set of data for sparring and poomsae preferences\n",
    "for i = 1:nP, j = 1:nP\n",
    "    C[i, j] += alpha * (r[i]-r[j]-2+(r[j] >= 9))\n",
    "    C[i, j] -= beta  * (p[i]*p[j]+s[i]*s[j]-2*(p[i]*s[i]))\n",
    "    C[i, j] -= 1\n",
    "end\n",
    "\n",
    "# for i = 1:nP, j = 1:nP\n",
    "#     C[i, j] += alpha * (r[i]-r[j]-2+(r[j] >= 9))\n",
    "#     C[i, j] -= beta  * (pR[i]*pE[j]+sR[i]*sE[j]-pR[i]*sR[i]-pE[j]*sE[j])\n",
    "#     C[i, j] -= 1\n",
    "# end\n"
   ]
  },
  {
   "cell_type": "code",
   "execution_count": 5,
   "id": "7af21f47",
   "metadata": {},
   "outputs": [],
   "source": [
    "# Rank Constraint Matrix\n",
    "\n",
    "R = zeros(nP, nP, nT)\n",
    "\n",
    "for i = 1:nP, j = 1:nP, T = 1:nT\n",
    "    if r[i] >= r[j]+2 || (r[i] >= r[j]+1 && r[j] >= 9)  # Maybe make this lower\n",
    "        R[i, j, T] = 1\n",
    "    end\n",
    "end"
   ]
  },
  {
   "cell_type": "code",
   "execution_count": 6,
   "id": "66d24392",
   "metadata": {},
   "outputs": [
    {
     "name": "stdout",
     "output_type": "stream",
     "text": [
      "Set parameter Username\n",
      "Academic license - for non-commercial use only - expires 2023-09-22\n"
     ]
    }
   ],
   "source": [
    "m = Model(Gurobi.Optimizer)\n",
    "# set_optimizer_attribute(m, \"OutputFlag\", 0)\n",
    "\n",
    "print(\"\")"
   ]
  },
  {
   "cell_type": "code",
   "execution_count": 7,
   "id": "dd370c7a",
   "metadata": {},
   "outputs": [],
   "source": [
    "@variable(m, 0 <= x[1:nP, 1:nP, 1:nT] <= 1)\n",
    "@variable(m, 0 <= t[1:nP] <= 1, Int)\n",
    "\n",
    "print(\"\")"
   ]
  },
  {
   "cell_type": "code",
   "execution_count": 8,
   "id": "ce12c06e",
   "metadata": {},
   "outputs": [
    {
     "ename": "LoadError",
     "evalue": "BoundsError: attempt to access 72-element Vector{Any} at index [73]",
     "output_type": "error",
     "traceback": [
      "BoundsError: attempt to access 72-element Vector{Any} at index [73]",
      "",
      "Stacktrace:",
      " [1] getindex(A::Vector{Any}, i1::Int64)",
      "   @ Base ./array.jl:924",
      " [2] macro expansion",
      "   @ ~/.julia/packages/MutableArithmetics/Lnlkl/src/rewrite.jl:294 [inlined]",
      " [3] macro expansion",
      "   @ ~/.julia/packages/JuMP/UqjgA/src/macros.jl:819 [inlined]",
      " [4] top-level scope",
      "   @ ./In[8]:6",
      " [5] eval",
      "   @ ./boot.jl:368 [inlined]",
      " [6] include_string(mapexpr::typeof(REPL.softscope), mod::Module, code::String, filename::String)",
      "   @ Base ./loading.jl:1428"
     ]
    }
   ],
   "source": [
    "# Rank Constraint\n",
    "@constraint(m, x .<= R)\n",
    "\n",
    "# Maximum Constraints\n",
    "for P = 1:nP\n",
    "    @constraint(m, sum(x[i, P, T] for i=1:nP, T = 1:nT) <= aR[P])\n",
    "    @constraint(m, sum(x[P, i, T] for i=1:nP, T = 1:nT) <= 1) # replaced with ones\n",
    "end\n",
    "\n",
    "# Availability Constraints\n",
    "for i = 1:nP, j = i+1:nP, T=1:nT\n",
    "    @constraint(m, x[i,j,T] <= A[i,T]*A[j,T])\n",
    "end\n",
    "\n",
    "# Single Mentor Constraint\n",
    "for i = 1:nP, j = i+1:nP, k = 1:nP, T=1:nT\n",
    "    @constraint(m, x[i,k,T]+x[j,k,T] <= 1)\n",
    "end\n",
    "\n",
    "# Making t work\n",
    "for P = 1:nP\n",
    "    @constraint(m, sum(x[i,P,T] for i=1:nP, T=1:nT) >= t[P])\n",
    "    @constraint(m, 0.01*sum(x[i,P,T] for i=1:nP, T=1:nT) <= t[P])\n",
    "end\n",
    "\n",
    "print(\"\")"
   ]
  },
  {
   "cell_type": "code",
   "execution_count": 9,
   "id": "7a90a965",
   "metadata": {},
   "outputs": [],
   "source": [
    "@objective(m, Min, cM*sum((1-t[P]) for P=1:nP) + sum(x[i,j,T]*C[i,j] for i=1:nP, j=1:nP, T=1:nT))\n",
    "print(\"\")"
   ]
  },
  {
   "cell_type": "code",
   "execution_count": null,
   "id": "243b9425",
   "metadata": {},
   "outputs": [],
   "source": [
    "optimize!(m)\n",
    "\n",
    "objective_value(m)"
   ]
  },
  {
   "cell_type": "code",
   "execution_count": null,
   "id": "1910a568",
   "metadata": {},
   "outputs": [],
   "source": [
    "count = 0\n",
    "x_sol = value.(x)\n",
    "for i in 1:nP, j in 1:nP, k in 1:nT\n",
    "    if x_sol[i, j, k] != 0\n",
    "        count += 1\n",
    "    end\n",
    "end\n",
    "@show count"
   ]
  }
 ],
 "metadata": {
  "kernelspec": {
   "display_name": "Julia 1.8.1",
   "language": "julia",
   "name": "julia-1.8"
  },
  "language_info": {
   "file_extension": ".jl",
   "mimetype": "application/julia",
   "name": "julia",
   "version": "1.8.1"
  }
 },
 "nbformat": 4,
 "nbformat_minor": 5
}
