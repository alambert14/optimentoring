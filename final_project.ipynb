{
 "cells": [
  {
   "cell_type": "code",
   "execution_count": 234,
   "id": "f63f8ba8",
   "metadata": {},
   "outputs": [],
   "source": [
    "using CSV, DataFrames, JuMP, Gurobi, LinearAlgebra, Random"
   ]
  },
  {
   "cell_type": "code",
   "execution_count": 235,
   "id": "b99ef01c",
   "metadata": {},
   "outputs": [],
   "source": [
    "# Constants\n",
    "\n",
    "nP = 73 # number of people\n",
    "nT = 210 # number of timeslots in a week\n",
    "# Organized in 30 minute interals from 9am-12pm, Sunday-Saturday\n",
    "# 30 intervals/day * 7 days/week\n",
    "cM = 1e7# multiplier for the minimal matching objective\n",
    "\n",
    "print(\"\")"
   ]
  },
  {
   "cell_type": "code",
   "execution_count": 236,
   "id": "53e40abe",
   "metadata": {},
   "outputs": [
    {
     "name": "stdout",
     "output_type": "stream",
     "text": [
      "size(A) = (73, 210)\n",
      "aE = Any[1, 1, 1, 1, 1, 1, 1, 1, 1, 1, 1, 1, 1, 1, 0, 0, 1, 1, 1, 1, 1, 1, 1, 1, 1, 1, 1, 0, 1, 1, 1, 1, 0, 1, 0, 1, 1, 1, 1, 0, 1, 0, 1, 1, 1, 1, 1, 1, 1, 1, 0, 1, 1, 0, 1, 1, 1, 1, 1, 1, 1, 0, 1, 0, 1, 1, 1, 1, 1, 1, 1, 1, 1]\n"
     ]
    }
   ],
   "source": [
    "# Load Data\n",
    "\n",
    "# 0-1 matrix of whether person can mentor/mentee at time T\n",
    "load_A = Matrix(CSV.read(\"schedules.csv\", DataFrame, header=0))[3:end, 2:end]  # nP x nT\n",
    "A = zeros(nP, nT)\n",
    "for i in 1:nP, j in 1:nT\n",
    "    A[i, j] = parse(Int64, load_A[i, j])\n",
    "end\n",
    "\n",
    "@show size(A)\n",
    "\n",
    "# for these, what if someone is only a mentor or only a mentee? would it be zero?\n",
    "aR = Matrix(CSV.read(\"num_sessions.csv\", DataFrame, header=0))[:, 2] # nP x 1: max num of session person can mentor\n",
    "aE = Matrix(CSV.read(\"num_sessions.csv\", DataFrame, header=0))[:, 3] # nP x 1: max num of sessions person can mentee (0 or 1)\n",
    "# \n",
    "# aE = Matrix(CSV.read(\"max_menteeing.csv\", DataFrame)) # nP x 1: max num of session person can mentee (can we remove this?)\n",
    "r  = Matrix(CSV.read(\"rank.csv\", DataFrame, header=0))[:, 2]# nP x 1, rank\n",
    "\n",
    "# Set ians rank down so he gets a mentor...\n",
    "r[30] = -2\n",
    "\n",
    "# Don't we just need one per person? Lessens the amount of data, plus not everyone is a mentor or mentee\n",
    "p = Matrix(CSV.read(\"poomsae_pref.csv\", DataFrame, header=0))[:, 2]\n",
    "s = Matrix(CSV.read(\"sparring_pref.csv\", DataFrame, header=0))[:, 2]\n",
    "# pR = Matrix(CSV.read(\"mentor_poomsae.csv\", DataFrame)) # nP x 1: 0-1 does mentor prefer poomsae \n",
    "# pE = Matrix(CSV.read(\"mentee_poomsae.csv\", DataFrame)) # nP x 1: 0-1 does mentee prefer poomsae\n",
    "# sR = Matrix(CSV.read(\"mentor_sparring.csv\", DataFrame)) # nP x 1: 0-1 does mentor prefer sparring\n",
    "# sE = Matrix(CSV.read(\"mentee_sparring.csv\")) # nP x 1: 0-1 does mentee prefer sparring\n",
    "\n",
    "#@show aR\n",
    "@show aE\n",
    "#@show r\n",
    "#@show p\n",
    "#@show s\n",
    "\n",
    "\n",
    "print(\"\")"
   ]
  },
  {
   "cell_type": "code",
   "execution_count": 237,
   "id": "61e9b0d4",
   "metadata": {},
   "outputs": [
    {
     "data": {
      "text/plain": [
       "73×73 Matrix{Float64}:\n",
       " 0.0  0.0  0.0  0.0  0.0  0.0  0.0  0.0  …  0.0  0.0  0.0  0.0  0.0  0.0  0.0\n",
       " 0.0  1.0  0.0  0.0  0.0  0.0  0.0  0.0     0.0  0.0  0.0  1.0  0.0  1.0  0.0\n",
       " 0.0  0.0  0.0  0.0  0.0  0.0  0.0  0.0     0.0  0.0  0.0  0.0  0.0  0.0  0.0\n",
       " 0.0  0.0  0.0  0.0  0.0  0.0  0.0  0.0     0.0  0.0  0.0  0.0  0.0  0.0  0.0\n",
       " 0.0  0.0  0.0  0.0  0.0  0.0  0.0  0.0     0.0  0.0  0.0  0.0  0.0  0.0  0.0\n",
       " 0.0  0.0  0.0  0.0  0.0  0.0  0.0  0.0  …  0.0  0.0  0.0  0.0  0.0  0.0  0.0\n",
       " 0.0  0.0  0.0  0.0  0.0  0.0  1.0  0.0     1.0  1.0  1.0  0.0  1.0  0.0  0.0\n",
       " 0.0  0.0  0.0  0.0  0.0  0.0  0.0  0.0     0.0  0.0  0.0  0.0  0.0  0.0  0.0\n",
       " 0.0  1.0  0.0  0.0  0.0  0.0  0.0  0.0     0.0  0.0  0.0  1.0  0.0  1.0  0.0\n",
       " 0.0  0.0  0.0  0.0  0.0  0.0  0.0  0.0     0.0  0.0  0.0  0.0  0.0  0.0  0.0\n",
       " 0.0  0.0  0.0  0.0  0.0  0.0  0.0  0.0  …  0.0  0.0  0.0  0.0  0.0  0.0  0.0\n",
       " 0.0  0.0  0.0  0.0  0.0  0.0  0.0  0.0     0.0  0.0  0.0  0.0  0.0  0.0  0.0\n",
       " 0.0  0.0  0.0  0.0  0.0  0.0  0.0  0.0     0.0  0.0  0.0  0.0  0.0  0.0  0.0\n",
       " ⋮                        ⋮              ⋱                      ⋮         \n",
       " 0.0  0.0  0.0  0.0  0.0  0.0  0.0  0.0     0.0  0.0  0.0  0.0  0.0  0.0  0.0\n",
       " 0.0  0.0  0.0  0.0  0.0  0.0  0.0  0.0     0.0  0.0  0.0  0.0  0.0  0.0  0.0\n",
       " 0.0  0.0  0.0  0.0  0.0  0.0  0.0  0.0     0.0  0.0  0.0  0.0  0.0  0.0  0.0\n",
       " 0.0  0.0  0.0  0.0  0.0  0.0  1.0  0.0     1.0  1.0  1.0  0.0  1.0  0.0  0.0\n",
       " 0.0  0.0  0.0  0.0  0.0  0.0  0.0  0.0  …  0.0  0.0  0.0  0.0  0.0  0.0  0.0\n",
       " 0.0  0.0  0.0  0.0  0.0  0.0  1.0  0.0     1.0  1.0  1.0  0.0  1.0  0.0  0.0\n",
       " 0.0  0.0  0.0  0.0  0.0  0.0  1.0  0.0     1.0  1.0  1.0  0.0  1.0  0.0  0.0\n",
       " 0.0  0.0  0.0  0.0  0.0  0.0  1.0  0.0     1.0  1.0  1.0  0.0  1.0  0.0  0.0\n",
       " 0.0  1.0  0.0  0.0  0.0  0.0  0.0  0.0     0.0  0.0  0.0  1.0  0.0  1.0  0.0\n",
       " 0.0  0.0  0.0  0.0  0.0  0.0  1.0  0.0  …  1.0  1.0  1.0  0.0  1.0  0.0  0.0\n",
       " 0.0  1.0  0.0  0.0  0.0  0.0  0.0  0.0     0.0  0.0  0.0  1.0  0.0  1.0  0.0\n",
       " 0.0  0.0  0.0  0.0  0.0  0.0  0.0  0.0     0.0  0.0  0.0  0.0  0.0  0.0  0.0"
      ]
     },
     "execution_count": 237,
     "metadata": {},
     "output_type": "execute_result"
    }
   ],
   "source": [
    "# Create Cost Matrix\n",
    "\n",
    "alpha = 1\n",
    "beta  = 10\n",
    "gamma = 100\n",
    "\n",
    "\n",
    "# Break up the objectives for different analysis\n",
    "qA = zeros(nP, nP)  # quality of match: availability\n",
    "qR = zeros(nP, nP)  # quality of match: rank\n",
    "qI = zeros(nP, nP)  # quality of match: interest\n",
    "\n",
    "# Adjusting to only have one set of data for sparring and poomsae preferences\n",
    "for i = 1:nP, j = 1:nP\n",
    "    # @show(A[i, :]'A[j, :])  # why is this zero or 1\n",
    "    #print(A[j])\n",
    "    qA[i, j] += (A[i, :]'A[j, :])\n",
    "    qR[i, j] += (r[j]-r[i]+2-(r[j] <= 0))\n",
    "    qI[i, j] += (p[i]*p[j]+s[i]*s[j]-p[i]*s[i]-p[j]*s[j])\n",
    "end\n",
    "\n",
    "C = -alpha .* qA + beta .* qR - gamma .* qI .- 1\n",
    "\n",
    "\n",
    "qI\n",
    "\n",
    "# for i = 1:nP, j = 1:nP\n",
    "#     C[i, j] += alpha * (r[i]-r[j]-2+(r[j] >= 9))\n",
    "#     C[i, j] -= beta  * (pR[i]*pE[j]+sR[i]*sE[j]-pR[i]*sR[i]-pE[j]*sE[j])\n",
    "#     C[i, j] -= 1\n",
    "# end\n"
   ]
  },
  {
   "cell_type": "code",
   "execution_count": null,
   "id": "b8ca5df8",
   "metadata": {},
   "outputs": [],
   "source": []
  },
  {
   "cell_type": "code",
   "execution_count": 238,
   "id": "7af21f47",
   "metadata": {},
   "outputs": [],
   "source": [
    "# Rank Constraint Matrix\n",
    "# Adjust to be negative hehe\n",
    "\n",
    "R = zeros(nP, nP)\n",
    "\n",
    "for i = 1:nP, j = 1:nP\n",
    "    if r[i] <= r[j]-2 || (r[i] <= r[j]-1 && r[j] <= 0)\n",
    "        R[i, j] = 1\n",
    "    end\n",
    "end\n",
    "\n",
    "R = convert(Array{Int64}, R);"
   ]
  },
  {
   "cell_type": "code",
   "execution_count": 239,
   "id": "66d24392",
   "metadata": {},
   "outputs": [
    {
     "name": "stdout",
     "output_type": "stream",
     "text": [
      "Set parameter Username\n",
      "Academic license - for non-commercial use only - expires 2023-12-03\n",
      "Set parameter IntegralityFocus to value 1\n"
     ]
    }
   ],
   "source": [
    "m = Model(Gurobi.Optimizer)\n",
    "# set_optimizer_attribute(m, \"OutputFlag\", 0)\n",
    "set_optimizer_attribute(m, \"IntegralityFocus\",1)\n",
    "\n",
    "print(\"\")"
   ]
  },
  {
   "cell_type": "code",
   "execution_count": 240,
   "id": "dd370c7a",
   "metadata": {},
   "outputs": [],
   "source": [
    "@variable(m, 0 <= x[1:nP, 1:nP] <= 1)\n",
    "@variable(m, 0 <= t[1:nP] <= 1, Int)\n",
    "\n",
    "print(\"\")"
   ]
  },
  {
   "cell_type": "code",
   "execution_count": 241,
   "id": "ce12c06e",
   "metadata": {},
   "outputs": [],
   "source": [
    "# Rank Constraint (capacity constraint)\n",
    "@constraint(m, x .<= R);"
   ]
  },
  {
   "cell_type": "code",
   "execution_count": 242,
   "id": "c538df7a",
   "metadata": {},
   "outputs": [],
   "source": [
    "# Maximum Constraints\n",
    "for P = 1:nP\n",
    "    @constraint(m, sum(x[i, P] for i=1:nP) <= aE[P]);\n",
    "    @constraint(m, sum(x[P, i] for i=1:nP) <= aR[P]); # replaced with ones\n",
    "end"
   ]
  },
  {
   "cell_type": "code",
   "execution_count": null,
   "id": "3e9242aa",
   "metadata": {},
   "outputs": [],
   "source": []
  },
  {
   "cell_type": "code",
   "execution_count": 243,
   "id": "4dd59bb0",
   "metadata": {},
   "outputs": [],
   "source": [
    "# # Availability Constraints\n",
    "# for i = 1:nP, j = i+1:nP, T=1:nT\n",
    "#     @constraint(m, x[i,j,T] <= A[i,T]*A[j,T]);\n",
    "# end"
   ]
  },
  {
   "cell_type": "code",
   "execution_count": 244,
   "id": "2854a4b1",
   "metadata": {},
   "outputs": [],
   "source": [
    "# # THIS ONE TAKES TOO LONG\n",
    "\n",
    "# # Single Mentor Constraint\n",
    "# for i = 1:nP, j = i+1:nP, k = 1:nP, T=1:nT\n",
    "#     @constraint(m, x[i,k,T]+x[j,k,T] <= 1);\n",
    "# end"
   ]
  },
  {
   "cell_type": "code",
   "execution_count": 245,
   "id": "92653123",
   "metadata": {},
   "outputs": [],
   "source": [
    "# Making t work\n",
    "for P = 1:nP\n",
    "    @constraint(m, sum(x[i,P] for i=1:nP) >= t[P])\n",
    "    @constraint(m, 0.01*sum(x[i,P] for i=1:nP) <= t[P]);  # make constraint integral\n",
    "end\n",
    "\n",
    "print(\"\")"
   ]
  },
  {
   "cell_type": "code",
   "execution_count": 246,
   "id": "7a90a965",
   "metadata": {},
   "outputs": [],
   "source": [
    "@objective(m, Min, cM*sum((1-t[P])*aE[P] for P=1:nP) + sum(x[i,j]*C[i,j] for i=1:nP, j=1:nP))\n",
    "print(\"\")"
   ]
  },
  {
   "cell_type": "code",
   "execution_count": 247,
   "id": "243b9425",
   "metadata": {},
   "outputs": [
    {
     "name": "stdout",
     "output_type": "stream",
     "text": [
      "Set parameter IntegralityFocus to value 1\n",
      "Gurobi Optimizer version 10.0.0 build v10.0.0rc2 (linux64)\n",
      "\n",
      "CPU model: Intel(R) Core(TM) i7-6950X CPU @ 3.00GHz, instruction set [SSE2|AVX|AVX2]\n",
      "Thread count: 10 physical cores, 20 logical processors, using up to 20 threads\n",
      "\n",
      "Optimize a model with 5621 rows, 5402 columns and 26791 nonzeros\n",
      "Model fingerprint: 0xe567f90a\n",
      "Variable types: 5329 continuous, 73 integer (0 binary)\n",
      "Coefficient statistics:\n",
      "  Matrix range     [1e-02, 1e+00]\n",
      "  Objective range  [1e+00, 1e+07]\n",
      "  Bounds range     [1e+00, 1e+00]\n",
      "  RHS range        [1e+00, 4e+00]\n",
      "Found heuristic solution: objective 6.200000e+08\n",
      "Presolve removed 5532 rows and 4013 columns\n",
      "Presolve time: 0.02s\n",
      "Presolved: 89 rows, 1389 columns, 2716 nonzeros\n",
      "Variable types: 1327 continuous, 62 integer (62 binary)\n",
      "Found heuristic solution: objective 1.000083e+07\n",
      "\n",
      "Root relaxation: objective -1.324000e+03, 206 iterations, 0.00 seconds (0.00 work units)\n",
      "\n",
      "    Nodes    |    Current Node    |     Objective Bounds      |     Work\n",
      " Expl Unexpl |  Obj  Depth IntInf | Incumbent    BestBd   Gap | It/Node Time\n",
      "\n",
      "*    0     0               0    -1324.000000 -1324.0000  0.00%     -    0s\n",
      "\n",
      "Explored 1 nodes (206 simplex iterations) in 0.04 seconds (0.02 work units)\n",
      "Thread count was 20 (of 20 available processors)\n",
      "\n",
      "Solution count 4: -1324 -1324 1.00008e+07 6.2e+08 \n",
      "No other solutions better than -1324\n",
      "\n",
      "Optimal solution found (tolerance 1.00e-04)\n",
      "Best objective -1.324000000000e+03, best bound -1.324000000000e+03, gap 0.0000%\n",
      "\n",
      "User-callback calls 322, time in user-callback 0.00 sec\n"
     ]
    },
    {
     "data": {
      "text/plain": [
       "-1324.0"
      ]
     },
     "execution_count": 247,
     "metadata": {},
     "output_type": "execute_result"
    }
   ],
   "source": [
    "optimize!(m)\n",
    "\n",
    "objective_value(m)"
   ]
  },
  {
   "cell_type": "code",
   "execution_count": 248,
   "id": "1910a568",
   "metadata": {},
   "outputs": [
    {
     "name": "stdout",
     "output_type": "stream",
     "text": [
      "count = 62\n"
     ]
    },
    {
     "data": {
      "text/plain": [
       "62"
      ]
     },
     "execution_count": 248,
     "metadata": {},
     "output_type": "execute_result"
    }
   ],
   "source": [
    "count = 0\n",
    "x_sol = value.(x)\n",
    "for i in 1:nP, j in 1:nP\n",
    "    if x_sol[i, j] != 0\n",
    "        count += 1\n",
    "    end\n",
    "end\n",
    "@show count"
   ]
  },
  {
   "cell_type": "code",
   "execution_count": 249,
   "id": "852e5512",
   "metadata": {},
   "outputs": [
    {
     "name": "stdout",
     "output_type": "stream",
     "text": [
      "Akila Saravanan, Claire Kim, 1.0\n",
      "Ana Uvarova, Anas Chentouf, 1.0\n",
      "Ana Uvarova, Ian Rosado, 1.0\n",
      "Andy Lambert, Bianca Santi, 1.0\n",
      "Andy Lambert, Tiffany Louie, 1.0\n",
      "Angela Gao, Crystal Liang, 1.0\n",
      "Angela Gao, Evelyn Fu, 1.0\n",
      "Bianca Santi, Esther Kinyanjui, 1.0\n",
      "Bianca Santi, Fatima Zaidouni, 1.0\n",
      "Bint Outhman, Arthur Liang, 1.0\n",
      "Bint Outhman, Brian Le, 1.0\n",
      "Chanwoo Yoon, Diego Coello, 1.0\n",
      "Chanwoo Yoon, Titus Tsai, 1.0\n",
      "Cher Jiang, Ophelia Zhu, 1.0\n",
      "Cher Jiang, Pierce Lai, 1.0\n",
      "Christine Tu, Cameron Kokesh, 1.0\n",
      "Christine Tu, Jonathan Zong, 1.0\n",
      "Claire Kim, Ana Uvarova, 1.0\n",
      "Claire Kim, Angela Gao, 1.0\n",
      "Claire Kim, Bint Outhman, 1.0\n",
      "Emmie Le Roy, Enid M Cruz Colón, 1.0\n",
      "Emmie Le Roy, Nurullah Giray Kuru, 1.0\n",
      "Evelyn Fu, Isabela Fuentes, 1.0\n",
      "Evelyn Fu, Pravalika Putalapattu, 1.0\n",
      "Grace Huang, Anna Rasmussen, 1.0\n",
      "Grace Huang, Karissa Sanchez, 1.0\n",
      "Grace Jau, Robert van der Drift, 1.0\n",
      "Ian Williams, Alonso Hernandez, 1.0\n",
      "Ian Williams, Xavier Sanchez, 1.0\n",
      "Jawad Yousef, Austin White, 1.0\n",
      "Jawad Yousef, Isa Liggans, 1.0\n",
      "Jeffery Li, Julia Pockat, 1.0\n",
      "Jeffery Li, Katherine Zhao, 1.0\n",
      "Jeffery Li, Sruthi Parthasarathi, 1.0\n",
      "Jiaxing Liu, Grace Huang, 1.0\n",
      "Jiaxing Liu, Michele \"Mike\" Gabriele, 1.0\n",
      "Karina Lara, Layal Barakat, 1.0\n",
      "Karina Lara, Melissa Hummel, 1.0\n",
      "Karissa Sanchez, Ricardo Carrillo, 1.0\n",
      "Karissa Sanchez, Yuying Lin, 1.0\n",
      "Karyn Real, Akila Saravanan, 1.0\n",
      "Karyn Real, Ian Williams, 1.0\n",
      "Karyn Real, Sophie Wang, 1.0\n",
      "Laney Flanagan, Emmie Le Roy, 1.0\n",
      "Laney Flanagan, Karina Lara, 1.0\n",
      "Laney Flanagan, Zoe Aarons, 1.0\n",
      "Michele \"Mike\" Gabriele, Ryan de Freitas Bart, 1.0\n",
      "Michele \"Mike\" Gabriele, Sarah Zhao, 1.0\n",
      "Mihir Khambete, Shivali Singireddy, 1.0\n",
      "Mihir Khambete, Zi Yan Wu, 1.0\n",
      "Moctar Fall, Ellen Zhang, 1.0\n",
      "Moctar Fall, Evan Caragay, 1.0\n",
      "Moctar Fall, Liliana Arias, 1.0\n",
      "Moctar Fall, Mimi Lohanimit, 1.0\n",
      "Peter Tran, Andy Lambert, 1.0\n",
      "Peter Tran, Jeffery Li, 1.0\n",
      "Peter Tran, Rona Wang, 1.0\n",
      "Shion Murakawa, Mihir Khambete, 1.0\n",
      "Silvia Knappe, Madison Wang, 1.0\n",
      "Silvia Knappe, Maya Rebholz, 1.0\n",
      "Tiffany Louie, Chanwoo Yoon, 1.0\n",
      "Tiffany Louie, Waly Ndiaye, 1.0\n"
     ]
    }
   ],
   "source": [
    "names = Matrix(CSV.read(\"num_sessions.csv\", DataFrame, header=0))[:, 1]\n",
    "# @show names\n",
    "\n",
    "# count = 0\n",
    "# x_sol = value.(x)\n",
    "for i in 1:nP, j in 1:nP\n",
    "    if x_sol[i, j] != 0\n",
    "        print(\"$(names[i]), $(names[j]), $(x_sol[i, j])\\n\")\n",
    "    end\n",
    "end\n",
    "# @show count"
   ]
  },
  {
   "cell_type": "code",
   "execution_count": 250,
   "id": "f71bc176",
   "metadata": {},
   "outputs": [
    {
     "data": {
      "text/plain": [
       "`\u001b[4mAnalysis:\u001b[24m \u001b[4m-Generate\u001b[24m \u001b[4man\u001b[24m \u001b[4mx\u001b[24m \u001b[4mrepresenting\u001b[24m \u001b[4mthe\u001b[24m \u001b[4mexisting\u001b[24m \u001b[4mmentorship\u001b[24m \u001b[4mpairs\u001b[24m \u001b[4mand\u001b[24m \u001b[4mcalculate\u001b[24m \u001b[4mthe\u001b[24m \u001b[4mcost\u001b[24m \u001b[4m-Report\u001b[24m \u001b[4mhow\u001b[24m \u001b[4mmany\u001b[24m \u001b[4mpeople\u001b[24m \u001b[4mwho\u001b[24m \u001b[4mwanted\u001b[24m \u001b[4ma\u001b[24m \u001b[4mmentor\u001b[24m \u001b[4mreceived\u001b[24m \u001b[4mone\u001b[24m \u001b[4m-\u001b[24m`"
      ]
     },
     "execution_count": 250,
     "metadata": {},
     "output_type": "execute_result"
    }
   ],
   "source": [
    "```\n",
    "Analysis:\n",
    "-Generate an x representing the existing mentorship pairs and calculate the cost\n",
    "-Report how many people who wanted a mentor received one\n",
    "-\n",
    "\n",
    "```"
   ]
  },
  {
   "cell_type": "code",
   "execution_count": 251,
   "id": "01e934cc",
   "metadata": {},
   "outputs": [
    {
     "data": {
      "text/plain": [
       "73×73 Matrix{Int64}:\n",
       " 0  0  0  0  0  0  0  0  0  0  0  0  0  …  0  1  0  1  1  0  0  0  0  0  0  0\n",
       " 0  0  0  0  0  0  0  0  0  0  0  0  0     0  0  0  0  0  0  0  0  0  0  0  0\n",
       " 0  0  0  0  0  0  0  0  0  0  0  0  0     0  0  0  0  0  0  0  0  0  0  0  0\n",
       " 0  0  0  0  0  0  0  0  0  0  0  0  0     0  0  0  0  0  0  0  0  0  0  0  0\n",
       " 0  0  0  0  0  0  0  0  0  0  0  0  0     0  0  0  0  0  0  0  0  1  0  0  0\n",
       " 0  0  0  0  0  0  0  0  0  0  0  0  0  …  0  0  0  0  0  0  0  0  0  0  0  0\n",
       " 0  0  0  0  0  0  0  0  0  0  0  0  0     0  0  0  0  0  0  0  0  0  0  0  0\n",
       " 0  0  0  0  0  0  0  0  0  0  0  0  0     0  0  0  0  0  0  0  0  0  0  0  0\n",
       " 0  0  0  0  0  0  0  0  0  0  0  0  0     0  0  0  0  0  0  0  0  0  0  0  0\n",
       " 0  0  0  0  0  0  0  0  0  0  0  0  0     0  0  0  0  0  0  0  0  0  1  0  0\n",
       " 0  1  0  0  0  0  0  0  1  0  0  0  0  …  0  0  0  0  0  0  0  0  0  0  0  0\n",
       " 0  0  0  0  0  0  0  0  0  0  0  0  0     0  0  0  0  0  0  0  0  0  0  0  0\n",
       " 0  0  0  0  0  0  0  0  0  0  0  0  0     0  0  0  0  0  0  0  0  0  0  0  0\n",
       " ⋮              ⋮              ⋮        ⋱              ⋮              ⋮     \n",
       " 0  0  0  0  0  0  0  0  0  0  0  0  0     0  0  0  0  0  0  0  0  0  0  0  0\n",
       " 0  0  0  0  0  0  0  0  0  0  0  0  0     0  0  0  0  0  0  0  0  0  0  0  0\n",
       " 0  0  0  0  0  0  0  0  0  0  0  0  0     0  0  0  0  0  0  0  0  0  0  0  0\n",
       " 0  0  0  0  0  0  0  0  0  0  0  0  0     0  0  0  0  0  0  0  0  0  0  0  0\n",
       " 0  0  0  0  0  0  0  0  0  0  0  0  0  …  0  0  0  0  0  0  0  0  0  0  0  0\n",
       " 0  0  0  0  0  0  0  0  0  0  0  0  0     0  0  0  0  0  0  0  1  0  0  0  0\n",
       " 0  0  0  0  0  0  0  0  0  0  0  0  0     0  0  0  0  0  0  0  0  0  0  0  0\n",
       " 0  0  0  0  0  0  0  0  0  0  0  0  0     0  0  0  0  0  0  0  0  0  0  0  0\n",
       " 0  0  0  0  0  0  0  0  0  0  0  0  0     0  0  0  0  0  0  0  0  0  0  0  0\n",
       " 0  0  0  0  0  0  0  0  0  0  0  0  0  …  0  0  0  0  0  0  0  0  0  0  0  0\n",
       " 0  0  0  0  0  0  0  0  0  0  0  0  0     0  0  0  0  0  0  0  0  0  0  0  0\n",
       " 0  0  0  0  0  0  0  0  0  0  0  0  0     0  0  0  0  0  0  0  0  0  0  0  0"
      ]
     },
     "execution_count": 251,
     "metadata": {},
     "output_type": "execute_result"
    }
   ],
   "source": [
    "baseline_x_load = Matrix(CSV.read(\"baseline.csv\", DataFrame, header=0))[2:end, 2:end]\n",
    "baseline_x = zeros(nP, nP)\n",
    "for i in 1:nP, j in 1:nP\n",
    "    baseline_x[i, j] = parse(Int64, baseline_x_load[i, j])\n",
    "end\n",
    "baseline_x = convert(Matrix{Int64}, baseline_x)"
   ]
  },
  {
   "cell_type": "code",
   "execution_count": 252,
   "id": "262480b9",
   "metadata": {},
   "outputs": [
    {
     "name": "stdout",
     "output_type": "stream",
     "text": [
      "(1, 73)"
     ]
    },
    {
     "data": {
      "text/plain": [
       "662.0"
      ]
     },
     "execution_count": 252,
     "metadata": {},
     "output_type": "execute_result"
    }
   ],
   "source": [
    "baseline_x\n",
    "baseline_t = sum(baseline_x, dims=1)\n",
    "print(size(baseline_t))\n",
    "\n",
    "baseline_cost = cM*sum((1-baseline_t[P])*aE[P] for P=1:nP) + sum(baseline_x[i,j]*C[i,j] for i=1:nP, j=1:nP)\n",
    "\n",
    "# print(sum((1-baseline_t[P])*aE[P] for P=1:nP))\n",
    "# cost_term = sum(baseline_x[i,j]*C[i,j] for i=1:nP, j=1:nP)\n"
   ]
  },
  {
   "cell_type": "code",
   "execution_count": 253,
   "id": "dab1b201",
   "metadata": {},
   "outputs": [],
   "source": [
    "for i in 1:nP\n",
    "    if aE[i] == 1 && baseline_t[i] == 0\n",
    "        print(\"$(names[i])\\n\")\n",
    "    end\n",
    "end"
   ]
  },
  {
   "cell_type": "code",
   "execution_count": 254,
   "id": "17eeb34f",
   "metadata": {},
   "outputs": [],
   "source": [
    "for i in 1:nP\n",
    "    if aE[i] == 1 && value.(t)[i] == 0\n",
    "        print(\"$(names[i])\\n$(i)\")\n",
    "    end\n",
    "end"
   ]
  },
  {
   "cell_type": "code",
   "execution_count": 255,
   "id": "b13718b8",
   "metadata": {},
   "outputs": [
    {
     "name": "stdout",
     "output_type": "stream",
     "text": [
      "Quality of match based on availability:\n",
      "Ours: 3192.0\n",
      "Baseline: 2673.0\n"
     ]
    }
   ],
   "source": [
    "# Quality of match based on availability vs. baseline\n",
    "\n",
    "ours = sum(x_sol[i,j]*qA[i,j] for i=1:nP, j=1:nP)\n",
    "baseline = sum(baseline_x[i,j]*qA[i,j] for i=1:nP, j=1:nP)\n",
    "\n",
    "print(\"Quality of match based on availability:\\n\")\n",
    "print(\"Ours: $(ours)\\n\")\n",
    "print(\"Baseline: $(baseline)\\n\")"
   ]
  },
  {
   "cell_type": "code",
   "execution_count": 256,
   "id": "07b9941a",
   "metadata": {},
   "outputs": [
    {
     "name": "stdout",
     "output_type": "stream",
     "text": [
      "Quality of match based on rank:\n",
      "Ours: -383.0\n",
      "Baseline: -400.0\n"
     ]
    }
   ],
   "source": [
    "# Quality of matche based on rank vs. baseline\n",
    "\n",
    "ours = -sum(x_sol[i,j]*qR[i,j] for i=1:nP, j=1:nP)\n",
    "baseline = -sum(baseline_x[i,j]*qR[i,j] for i=1:nP, j=1:nP)\n",
    "\n",
    "print(\"Quality of match based on rank:\\n\")\n",
    "print(\"Ours: $(ours)\\n\")\n",
    "print(\"Baseline: $(baseline)\\n\")"
   ]
  },
  {
   "cell_type": "code",
   "execution_count": 257,
   "id": "39c1af91",
   "metadata": {},
   "outputs": [
    {
     "name": "stdout",
     "output_type": "stream",
     "text": [
      "Quality of match based on interest:\n",
      "Ours: 19.0\n",
      "Baseline: 6.0\n"
     ]
    }
   ],
   "source": [
    "# Quality of match based on interest vs. baseline\n",
    "\n",
    "ours = sum(x_sol[i,j]*qI[i,j] for i=1:nP, j=1:nP)\n",
    "baseline = sum(baseline_x[i,j]*qI[i,j] for i=1:nP, j=1:nP)\n",
    "\n",
    "print(\"Quality of match based on interest:\\n\")\n",
    "print(\"Ours: $(ours)\\n\")\n",
    "print(\"Baseline: $(baseline)\\n\")"
   ]
  }
 ],
 "metadata": {
  "kernelspec": {
   "display_name": "Julia 1.8.1",
   "language": "julia",
   "name": "julia-1.8"
  },
  "language_info": {
   "file_extension": ".jl",
   "mimetype": "application/julia",
   "name": "julia",
   "version": "1.8.1"
  }
 },
 "nbformat": 4,
 "nbformat_minor": 5
}
