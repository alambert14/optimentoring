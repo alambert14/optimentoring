{
 "cells": [
  {
   "cell_type": "code",
   "execution_count": 1,
   "id": "f63f8ba8",
   "metadata": {},
   "outputs": [],
   "source": [
    "using CSV, DataFrames, JuMP, Gurobi, LinearAlgebra, Random"
   ]
  },
  {
   "cell_type": "code",
   "execution_count": 2,
   "id": "b99ef01c",
   "metadata": {},
   "outputs": [],
   "source": [
    "# Constants\n",
    "\n",
    "nP = 10 # number of people\n",
    "nT = 100 # number of timeslots in a week\n",
    "cM = 1e7 # big number\n",
    "\n",
    "print(\"\")"
   ]
  },
  {
   "cell_type": "code",
   "execution_count": 3,
   "id": "53e40abe",
   "metadata": {},
   "outputs": [],
   "source": [
    "# Load Data\n",
    "\n",
    "A = zeros(nP, nT) # 0-1 matrix of whether person can mentor/mentee at time T\n",
    "\n",
    "# All of below are vectors of size n\n",
    "\n",
    "aR = zeros(nP, 1) # max num of session person can mentor\n",
    "aE = zeros(nP, 1) # max num of session person can mentee\n",
    "r  = zeros(nP, 1) # rank\n",
    "pR = zeros(nP, 1) # 0-1 does mentor prefer poomsae \n",
    "pE = zeros(nP, 1) # 0-1 does mentee prefer poomsae\n",
    "sR = zeros(nP, 1) # 0-1 does mentor prefer sparring\n",
    "sE = zeros(nP, 1) # 0-1 does mentee prefer sparring\n",
    "\n",
    "print(\"\")"
   ]
  },
  {
   "cell_type": "code",
   "execution_count": 4,
   "id": "61e9b0d4",
   "metadata": {},
   "outputs": [],
   "source": [
    "# Create Cost Matrix\n",
    "\n",
    "alpha = 1\n",
    "beta  = 1\n",
    "\n",
    "C = zeros(nP, nP)\n",
    "\n",
    "for i = 1:nP, j = 1:nP\n",
    "    C[i, j] += alpha * (r[i]-r[j]-2+(r[j] >= 9))\n",
    "    C[i, j] -= beta  * (pR[i]*pE[j]+sR[i]*sE[j]-pR[i]*sR[i]-pE[j]*sE[j])\n",
    "    C[i, j] -= 1\n",
    "end"
   ]
  },
  {
   "cell_type": "code",
   "execution_count": 5,
   "id": "7af21f47",
   "metadata": {},
   "outputs": [],
   "source": [
    "# Rank Constraint Matrix\n",
    "\n",
    "R = zeros(nP, nP, nT)\n",
    "\n",
    "for i = 1:nP, j = 1:nP, T = 1:nT\n",
    "    if r[i] >= r[j]+2 || (r[i] >= r[j]+1 && r[j] >= 9)\n",
    "        R[i, j, T] = 1\n",
    "    end\n",
    "end"
   ]
  },
  {
   "cell_type": "code",
   "execution_count": 6,
   "id": "66d24392",
   "metadata": {},
   "outputs": [
    {
     "name": "stdout",
     "output_type": "stream",
     "text": [
      "Set parameter Username\r\n",
      "Academic license - for non-commercial use only - expires 2023-09-23\r\n"
     ]
    }
   ],
   "source": [
    "m = Model(Gurobi.Optimizer)\n",
    "set_optimizer_attribute(m, \"OutputFlag\", 0)\n",
    "\n",
    "print(\"\")"
   ]
  },
  {
   "cell_type": "code",
   "execution_count": 7,
   "id": "dd370c7a",
   "metadata": {},
   "outputs": [],
   "source": [
    "@variable(m, 0 <= x[1:nP, 1:nP, 1:nT] <= 1)\n",
    "@variable(m, 0 <= t[1:nP] <= 1, Int)\n",
    "\n",
    "print(\"\")"
   ]
  },
  {
   "cell_type": "code",
   "execution_count": 8,
   "id": "ce12c06e",
   "metadata": {},
   "outputs": [],
   "source": [
    "# Rank Constraint\n",
    "@constraint(m, x .<= R)\n",
    "\n",
    "# Maximum Constraints\n",
    "for P = 1:nP\n",
    "    @constraint(m, sum(x[i, P, T] for i=1:nP, T = 1:nT) <= aR[P])\n",
    "    @constraint(m, sum(x[P, i, T] for i=1:nP, T = 1:nT) <= aE[P])\n",
    "end\n",
    "\n",
    "# Availability Constraints\n",
    "for i = 1:nP, j = i+1:nP, T=1:nT\n",
    "    @constraint(m, x[i,j,T] <= A[i,T]*A[j,T])\n",
    "end\n",
    "\n",
    "# Single Mentor Constraint\n",
    "for i = 1:nP, j = i+1:nP, k = 1:nP, T=1:nT\n",
    "    @constraint(m, x[i,k,T]+x[j,k,T] <= 1)\n",
    "end\n",
    "\n",
    "# Making t work\n",
    "for P = 1:nP\n",
    "    @constraint(m, sum(x[i,P,T] for i=1:nP, T=1:nT) >= t[P])\n",
    "    @constraint(m, 0.01*sum(x[i,P,T] for i=1:nP, T=1:nT) <= t[P])\n",
    "end\n",
    "\n",
    "print(\"\")"
   ]
  },
  {
   "cell_type": "code",
   "execution_count": 9,
   "id": "7a90a965",
   "metadata": {},
   "outputs": [],
   "source": [
    "@objective(m, Min, cM*sum((1-t[P]) for P=1:nP) + sum(x[i,j,T]*C[i,j] for i=1:nP, j=1:nP, T=1:nT))\n",
    "print(\"\")"
   ]
  }
 ],
 "metadata": {
  "kernelspec": {
   "display_name": "Julia 1.8.1",
   "language": "julia",
   "name": "julia-1.8"
  },
  "language_info": {
   "file_extension": ".jl",
   "mimetype": "application/julia",
   "name": "julia",
   "version": "1.8.1"
  }
 },
 "nbformat": 4,
 "nbformat_minor": 5
}
