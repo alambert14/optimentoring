{
 "cells": [
  {
   "cell_type": "code",
   "execution_count": 80,
   "id": "f63f8ba8",
   "metadata": {},
   "outputs": [],
   "source": [
    "using CSV, DataFrames, JuMP, Gurobi, LinearAlgebra, Random"
   ]
  },
  {
   "cell_type": "code",
   "execution_count": 81,
   "id": "b99ef01c",
   "metadata": {},
   "outputs": [],
   "source": [
    "# Constants\n",
    "\n",
    "nP = 73 # number of people\n",
    "nT = 210 # number of timeslots in a week\n",
    "# Organized in 30 minute interals from 9am-12pm, Sunday-Saturday\n",
    "# 30 intervals/day * 7 days/week\n",
    "cM = 1e7 # multiplier for the minimal matching objective\n",
    "\n",
    "print(\"\")"
   ]
  },
  {
   "cell_type": "code",
   "execution_count": 82,
   "id": "53e40abe",
   "metadata": {},
   "outputs": [
    {
     "name": "stdout",
     "output_type": "stream",
     "text": [
      "size(A) = (73, 210)\n",
      "aE = Any[1, 1, 1, 1, 1, 1, 1, 1, 1, 1, 1, 1, 1, 1, 0, 0, 1, 1, 1, 1, 1, 1, 1, 1, 1, 1, 1, 1, 1, 1, 1, 1, 1, 1, 0, 1, 1, 1, 1, 0, 1, 0, 1, 1, 1, 1, 1, 1, 1, 1, 0, 1, 1, 0, 1, 1, 1, 1, 1, 1, 1, 0, 1, 0, 1, 1, 1, 1, 1, 1, 1, 1, 1]\n"
     ]
    }
   ],
   "source": [
    "# Load Data\n",
    "\n",
    "# 0-1 matrix of whether person can mentor/mentee at time T\n",
    "load_A = Matrix(CSV.read(\"schedules.csv\", DataFrame, header=0))[3:end, 2:end]  # nP x nT\n",
    "A = zeros(nP, nT)\n",
    "for i in 1:nP, j in 1:nT\n",
    "    A[i, j] = parse(Int64, load_A[i, j])\n",
    "end\n",
    "\n",
    "@show size(A)\n",
    "\n",
    "# for these, what if someone is only a mentor or only a mentee? would it be zero?\n",
    "aR = Matrix(CSV.read(\"num_sessions.csv\", DataFrame, header=0))[:, 2] # nP x 1: max num of session person can mentor\n",
    "aE = Matrix(CSV.read(\"num_sessions.csv\", DataFrame, header=0))[:, 3] # nP x 1: max num of sessions person can mentee (0 or 1)\n",
    "# \n",
    "# aE = Matrix(CSV.read(\"max_menteeing.csv\", DataFrame)) # nP x 1: max num of session person can mentee (can we remove this?)\n",
    "r  = Matrix(CSV.read(\"rank.csv\", DataFrame, header=0))[:, 2]# nP x 1, rank\n",
    "\n",
    "# Don't we just need one per person? Lessens the amount of data, plus not everyone is a mentor or mentee\n",
    "p = Matrix(CSV.read(\"poomsae_pref.csv\", DataFrame, header=0))[:, 2]\n",
    "s = Matrix(CSV.read(\"sparring_pref.csv\", DataFrame, header=0))[:, 2]\n",
    "# pR = Matrix(CSV.read(\"mentor_poomsae.csv\", DataFrame)) # nP x 1: 0-1 does mentor prefer poomsae \n",
    "# pE = Matrix(CSV.read(\"mentee_poomsae.csv\", DataFrame)) # nP x 1: 0-1 does mentee prefer poomsae\n",
    "# sR = Matrix(CSV.read(\"mentor_sparring.csv\", DataFrame)) # nP x 1: 0-1 does mentor prefer sparring\n",
    "# sE = Matrix(CSV.read(\"mentee_sparring.csv\")) # nP x 1: 0-1 does mentee prefer sparring\n",
    "\n",
    "#@show aR\n",
    "@show aE\n",
    "#@show r\n",
    "#@show p\n",
    "#@show s\n",
    "\n",
    "\n",
    "print(\"\")"
   ]
  },
  {
   "cell_type": "code",
   "execution_count": 83,
   "id": "61e9b0d4",
   "metadata": {},
   "outputs": [
    {
     "ename": "LoadError",
     "evalue": "syntax: \"for\" at In[83]:10 expected \"end\", got \")\"",
     "output_type": "error",
     "traceback": [
      "syntax: \"for\" at In[83]:10 expected \"end\", got \")\"",
      "",
      "Stacktrace:",
      " [1] top-level scope",
      "   @ In[83]:13",
      " [2] eval",
      "   @ ./boot.jl:368 [inlined]",
      " [3] include_string(mapexpr::typeof(REPL.softscope), mod::Module, code::String, filename::String)",
      "   @ Base ./loading.jl:1428"
     ]
    }
   ],
   "source": [
    "# Create Cost Matrix\n",
    "\n",
    "alpha = 1\n",
    "beta  = 1\n",
    "gamma = 1\n",
    "\n",
    "C = zeros(nP, nP)\n",
    "\n",
    "# Adjusting to only have one set of data for sparring and poomsae preferences\n",
    "for i = 1:nP, j = 1:nP\n",
    "    C[i, j] += alpha * (A[i]'*A[j])\n",
    "    C[i, j] += beta * (r[j]-r[i]-2+(r[j] <= 0))\n",
    "    C[i, j] -= gamma  * (p[i]*p[j]+s[i]*s[j]-p[i]*s[i]-p[j]*s[j]))\n",
    "    C[i, j] -= 1\n",
    "end\n",
    "\n",
    "# for i = 1:nP, j = 1:nP\n",
    "#     C[i, j] += alpha * (r[i]-r[j]-2+(r[j] >= 9))\n",
    "#     C[i, j] -= beta  * (pR[i]*pE[j]+sR[i]*sE[j]-pR[i]*sR[i]-pE[j]*sE[j])\n",
    "#     C[i, j] -= 1\n",
    "# end\n"
   ]
  },
  {
   "cell_type": "code",
   "execution_count": 84,
   "id": "7af21f47",
   "metadata": {},
   "outputs": [],
   "source": [
    "# Rank Constraint Matrix\n",
    "# Adjust to be negative hehe\n",
    "\n",
    "R = zeros(nP, nP)\n",
    "\n",
    "for i = 1:nP, j = 1:nP\n",
    "    if r[i] <= r[j]-2 || (r[i] <= r[j]-1 && r[j] <= 0)\n",
    "        R[i, j] = 1\n",
    "    end\n",
    "end\n",
    "\n",
    "R = convert(Array{Int64}, R);"
   ]
  },
  {
   "cell_type": "code",
   "execution_count": 85,
   "id": "66d24392",
   "metadata": {},
   "outputs": [
    {
     "name": "stdout",
     "output_type": "stream",
     "text": [
      "Set parameter Username\n",
      "Academic license - for non-commercial use only - expires 2023-12-03\n",
      "Set parameter IntegralityFocus to value 1\n"
     ]
    }
   ],
   "source": [
    "m = Model(Gurobi.Optimizer)\n",
    "# set_optimizer_attribute(m, \"OutputFlag\", 0)\n",
    "set_optimizer_attribute(m, \"IntegralityFocus\",1)\n",
    "\n",
    "print(\"\")"
   ]
  },
  {
   "cell_type": "code",
   "execution_count": 86,
   "id": "dd370c7a",
   "metadata": {},
   "outputs": [],
   "source": [
    "@variable(m, 0 <= x[1:nP, 1:nP] <= 1)\n",
    "@variable(m, 0 <= t[1:nP] <= 1, Int)\n",
    "\n",
    "print(\"\")"
   ]
  },
  {
   "cell_type": "code",
   "execution_count": 87,
   "id": "ce12c06e",
   "metadata": {},
   "outputs": [],
   "source": [
    "# Rank Constraint (capacity constraint)\n",
    "@constraint(m, x .<= R);"
   ]
  },
  {
   "cell_type": "code",
   "execution_count": 88,
   "id": "c538df7a",
   "metadata": {},
   "outputs": [],
   "source": [
    "# Maximum Constraints\n",
    "for P = 1:nP\n",
    "    @constraint(m, sum(x[i, P] for i=1:nP) <= aE[P]);\n",
    "    @constraint(m, sum(x[P, i] for i=1:nP) <= aR[P]); # replaced with ones\n",
    "end"
   ]
  },
  {
   "cell_type": "code",
   "execution_count": null,
   "id": "3e9242aa",
   "metadata": {},
   "outputs": [],
   "source": []
  },
  {
   "cell_type": "code",
   "execution_count": 89,
   "id": "4dd59bb0",
   "metadata": {},
   "outputs": [],
   "source": [
    "# # Availability Constraints\n",
    "# for i = 1:nP, j = i+1:nP, T=1:nT\n",
    "#     @constraint(m, x[i,j,T] <= A[i,T]*A[j,T]);\n",
    "# end"
   ]
  },
  {
   "cell_type": "code",
   "execution_count": 90,
   "id": "2854a4b1",
   "metadata": {},
   "outputs": [],
   "source": [
    "# # THIS ONE TAKES TOO LONG\n",
    "\n",
    "# # Single Mentor Constraint\n",
    "# for i = 1:nP, j = i+1:nP, k = 1:nP, T=1:nT\n",
    "#     @constraint(m, x[i,k,T]+x[j,k,T] <= 1);\n",
    "# end"
   ]
  },
  {
   "cell_type": "code",
   "execution_count": 91,
   "id": "92653123",
   "metadata": {},
   "outputs": [],
   "source": [
    "# Making t work\n",
    "for P = 1:nP\n",
    "    @constraint(m, sum(x[i,P] for i=1:nP) >= t[P])\n",
    "    @constraint(m, 0.01*sum(x[i,P] for i=1:nP) <= t[P]);  # make constraint integral\n",
    "end\n",
    "\n",
    "print(\"\")"
   ]
  },
  {
   "cell_type": "code",
   "execution_count": null,
   "id": "7a90a965",
   "metadata": {},
   "outputs": [],
   "source": [
    "@objective(m, Min, cM*sum((1-t[P])*aE[P] for P=1:nP) + sum(x[i,j]*C[i,j] for i=1:nP, j=1:nP))\n",
    "print(\"\")"
   ]
  },
  {
   "cell_type": "code",
   "execution_count": null,
   "id": "243b9425",
   "metadata": {},
   "outputs": [],
   "source": [
    "optimize!(m)\n",
    "\n",
    "objective_value(m)"
   ]
  },
  {
   "cell_type": "code",
   "execution_count": null,
   "id": "1910a568",
   "metadata": {},
   "outputs": [],
   "source": [
    "count = 0\n",
    "x_sol = value.(x)\n",
    "for i in 1:nP, j in 1:nP\n",
    "    if x_sol[i, j] != 0\n",
    "        count += 1\n",
    "    end\n",
    "end\n",
    "@show count"
   ]
  },
  {
   "cell_type": "code",
   "execution_count": null,
   "id": "852e5512",
   "metadata": {},
   "outputs": [],
   "source": [
    "names = Matrix(CSV.read(\"num_sessions.csv\", DataFrame, header=0))[:, 1]\n",
    "# @show names\n",
    "\n",
    "# count = 0\n",
    "# x_sol = value.(x)\n",
    "for i in 1:nP, j in 1:nP\n",
    "    if x_sol[i, j] != 0\n",
    "        print(\"$(names[i]), $(names[j]), $(x_sol[i, j])\\n\")\n",
    "    end\n",
    "end\n",
    "# @show count"
   ]
  },
  {
   "cell_type": "code",
   "execution_count": null,
   "id": "4527fd3f",
   "metadata": {},
   "outputs": [],
   "source": [
    "```\n",
    "Analysis:\n",
    "-Generate an x representing the existing mentorship pairs and calculate the cost\n",
    "-Report how many people who wanted a mentor received one\n",
    "-\n",
    "\n",
    "```"
   ]
  },
  {
   "cell_type": "code",
   "execution_count": null,
   "id": "4cd813de",
   "metadata": {},
   "outputs": [],
   "source": [
    "baseline_x_load = Matrix(CSV.read(\"baseline.csv\", DataFrame, header=0))[2:end, 2:end]\n",
    "baseline_x = zeros(nP, nP)\n",
    "for i in 1:nP, j in 1:nP\n",
    "    baseline_x[i, j] = parse(Int64, baseline_x_load[i, j])\n",
    "end\n",
    "baseline_x = convert(Matrix{Int64}, baseline_x)"
   ]
  },
  {
   "cell_type": "code",
   "execution_count": null,
   "id": "10296d20",
   "metadata": {},
   "outputs": [],
   "source": [
    "baseline_x\n",
    "baseline_t = sum(baseline_x, dims=1)\n",
    "\n",
    "baseline_cost = cM*sum((1-baseline_t[P])*aE[P] for P=1:nP) + sum(baseline_x[i,j]*C[i,j] for i=1:nP, j=1:nP)"
   ]
  }
 ],
 "metadata": {
  "kernelspec": {
   "display_name": "Julia 1.8.1",
   "language": "julia",
   "name": "julia-1.8"
  },
  "language_info": {
   "file_extension": ".jl",
   "mimetype": "application/julia",
   "name": "julia",
   "version": "1.8.1"
  }
 },
 "nbformat": 4,
 "nbformat_minor": 5
}
