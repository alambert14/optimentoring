{
 "cells": [
  {
   "cell_type": "code",
   "execution_count": 1,
   "id": "f63f8ba8",
   "metadata": {},
   "outputs": [],
   "source": [
    "using CSV, DataFrames, JuMP, Gurobi, LinearAlgebra, Random"
   ]
  },
  {
   "cell_type": "code",
   "execution_count": 2,
   "id": "b99ef01c",
   "metadata": {},
   "outputs": [],
   "source": [
    "# Constants\n",
    "\n",
    "nP = 10 # number of people\n",
    "nT = 210 # number of timeslots in a week\n",
    "# Organized in 30 minute interals from 9am-12pm, Sunday-Saturday\n",
    "# 30 intervals/day * 7 days/week\n",
    "cM = 1e7 # multiplier for the minimal matching objective\n",
    "\n",
    "print(\"\")"
   ]
  },
  {
   "cell_type": "code",
   "execution_count": 3,
   "id": "53e40abe",
   "metadata": {},
   "outputs": [],
   "source": [
    "# Load Data\n",
    "\n",
    "# 0-1 matrix of whether person can mentor/mentee at time T\n",
    "load_A = Matrix(CSV.read(\"schedules.csv\", DataFrame, header=0))[3:end, 2:end]  # nP x nT\n",
    "A = zeros(nP, nT)\n",
    "for i in 1:nP, j in 1:nT\n",
    "    A[i, j] = parse(Int64, load_A[i, j])\n",
    "end\n",
    "\n",
    "\n",
    "# for these, what if someone is only a mentor or only a mentee? would it be zero?\n",
    "aR = Matrix(CSV.read(\"num_sessions.csv\", DataFrame))[:, 2] # nP x 1: max num of session person can mentor\n",
    "# aE = Matrix(CSV.read(\"max_menteeing.csv\", DataFrame)) # nP x 1: max num of session person can mentee (can we remove this?)\n",
    "r  = Matrix(CSV.read(\"rank.csv\", DataFrame, header=0))[:, 2]# nP x 1, rank\n",
    "\n",
    "# Don't we just need one per person? Lessens the amount of data, plus not everyone is a mentor or mentee\n",
    "p = Matrix(CSV.read(\"poomsae_pref.csv\", DataFrame))[:, 2]\n",
    "s = Matrix(CSV.read(\"sparring_pref.csv\", DataFrame))[:, 2]\n",
    "# pR = Matrix(CSV.read(\"mentor_poomsae.csv\", DataFrame)) # nP x 1: 0-1 does mentor prefer poomsae \n",
    "# pE = Matrix(CSV.read(\"mentee_poomsae.csv\", DataFrame)) # nP x 1: 0-1 does mentee prefer poomsae\n",
    "# sR = Matrix(CSV.read(\"mentor_sparring.csv\", DataFrame)) # nP x 1: 0-1 does mentor prefer sparring\n",
    "# sE = Matrix(CSV.read(\"mentee_sparring.csv\")) # nP x 1: 0-1 does mentee prefer sparring\n",
    "\n",
    "print(\"\")"
   ]
  },
  {
   "cell_type": "code",
   "execution_count": 4,
   "id": "61e9b0d4",
   "metadata": {},
   "outputs": [],
   "source": [
    "# Create Cost Matrix\n",
    "\n",
    "alpha = 1\n",
    "beta  = 1\n",
    "\n",
    "C = zeros(nP, nP)\n",
    "\n",
    "# Adjusting to only have one set of data for sparring and poomsae preferences\n",
    "for i = 1:nP, j = 1:nP\n",
    "    C[i, j] += alpha * (r[i]-r[j]-2+(r[j] >= 9))\n",
    "    C[i, j] -= beta  * (p[i]*p[j]+s[i]*s[j]-p[i]*s[i]-p[j]*s[j])\n",
    "    C[i, j] -= 1\n",
    "end\n",
    "\n",
    "# for i = 1:nP, j = 1:nP\n",
    "#     C[i, j] += alpha * (r[i]-r[j]-2+(r[j] >= 9))\n",
    "#     C[i, j] -= beta  * (pR[i]*pE[j]+sR[i]*sE[j]-pR[i]*sR[i]-pE[j]*sE[j])\n",
    "#     C[i, j] -= 1\n",
    "# end\n"
   ]
  },
  {
   "cell_type": "code",
   "execution_count": 5,
   "id": "7af21f47",
   "metadata": {},
   "outputs": [],
   "source": [
    "# Rank Constraint Matrix\n",
    "\n",
    "R = zeros(nP, nP, nT)\n",
    "\n",
    "for i = 1:nP, j = 1:nP, T = 1:nT\n",
    "    if r[i] >= r[j]+2 || (r[i] >= r[j]+1 && r[j] >= 9)  # Maybe make this lower\n",
    "        R[i, j, T] = 1\n",
    "    end\n",
    "end"
   ]
  },
  {
   "cell_type": "code",
   "execution_count": 6,
   "id": "66d24392",
   "metadata": {},
   "outputs": [
    {
     "name": "stdout",
     "output_type": "stream",
     "text": [
      "Set parameter Username\n",
      "Academic license - for non-commercial use only - expires 2023-12-03\n"
     ]
    }
   ],
   "source": [
    "m = Model(Gurobi.Optimizer)\n",
    "# set_optimizer_attribute(m, \"OutputFlag\", 0)\n",
    "\n",
    "print(\"\")"
   ]
  },
  {
   "cell_type": "code",
   "execution_count": 7,
   "id": "dd370c7a",
   "metadata": {},
   "outputs": [],
   "source": [
    "@variable(m, 0 <= x[1:nP, 1:nP, 1:nT] <= 1)\n",
    "@variable(m, 0 <= t[1:nP] <= 1, Int)\n",
    "\n",
    "print(\"\")"
   ]
  },
  {
   "cell_type": "code",
   "execution_count": 8,
   "id": "ce12c06e",
   "metadata": {},
   "outputs": [],
   "source": [
    "# Rank Constraint\n",
    "@constraint(m, x .<= R)\n",
    "\n",
    "# Maximum Constraints\n",
    "for P = 1:nP\n",
    "    @constraint(m, sum(x[i, P, T] for i=1:nP, T = 1:nT) <= aR[P])\n",
    "    @constraint(m, sum(x[P, i, T] for i=1:nP, T = 1:nT) <= 1) # replaced with ones\n",
    "end\n",
    "\n",
    "# Availability Constraints\n",
    "# for i = 1:nP, j = i+1:nP, T=1:nT\n",
    "#     @constraint(m, x[i,j,T] <= A[i,T]*A[j,T])\n",
    "# end\n",
    "\n",
    "# Single Mentor Constraint\n",
    "for i = 1:nP, j = i+1:nP, k = 1:nP, T=1:nT\n",
    "    @constraint(m, x[i,k,T]+x[j,k,T] <= 1)\n",
    "end\n",
    "\n",
    "# Making t work\n",
    "for P = 1:nP\n",
    "    @constraint(m, sum(x[i,P,T] for i=1:nP, T=1:nT) >= t[P])\n",
    "    @constraint(m, 0.01*sum(x[i,P,T] for i=1:nP, T=1:nT) <= t[P])\n",
    "end\n",
    "\n",
    "print(\"\")"
   ]
  },
  {
   "cell_type": "code",
   "execution_count": 9,
   "id": "7a90a965",
   "metadata": {},
   "outputs": [],
   "source": [
    "@objective(m, Min, cM*sum((1-t[P]) for P=1:nP) + sum(x[i,j,T]*C[i,j] for i=1:nP, j=1:nP, T=1:nT))\n",
    "print(\"\")"
   ]
  },
  {
   "cell_type": "code",
   "execution_count": 10,
   "id": "243b9425",
   "metadata": {},
   "outputs": [
    {
     "name": "stdout",
     "output_type": "stream",
     "text": [
      "Gurobi Optimizer version 10.0.0 build v10.0.0rc2 (linux64)\n",
      "\n",
      "CPU model: Intel(R) Core(TM) i7-6950X CPU @ 3.00GHz, instruction set [SSE2|AVX|AVX2]\n",
      "Thread count: 10 physical cores, 20 logical processors, using up to 20 threads\n",
      "\n",
      "Optimize a model with 115540 rows, 21010 columns and 294020 nonzeros\n",
      "Model fingerprint: 0x159427ef\n",
      "Variable types: 21000 continuous, 10 integer (0 binary)\n",
      "Coefficient statistics:\n",
      "  Matrix range     [1e-02, 1e+00]\n",
      "  Objective range  [1e+00, 1e+07]\n",
      "  Bounds range     [1e+00, 1e+00]\n",
      "  RHS range        [1e+00, 2e+00]\n",
      "Found heuristic solution: objective 1.000000e+08\n",
      "Presolve removed 115540 rows and 21010 columns\n",
      "Presolve time: 0.12s\n",
      "Presolve: All rows and columns removed\n",
      "\n",
      "Explored 0 nodes (0 simplex iterations) in 0.14 seconds (0.30 work units)\n",
      "Thread count was 1 (of 20 available processors)\n",
      "\n",
      "Solution count 2: 8e+07 1e+08 \n",
      "\n",
      "Optimal solution found (tolerance 1.00e-04)\n",
      "Best objective 7.999999900000e+07, best bound 7.999999900000e+07, gap 0.0000%\n",
      "\n",
      "User-callback calls 370, time in user-callback 0.00 sec\n"
     ]
    },
    {
     "data": {
      "text/plain": [
       "7.9999999e7"
      ]
     },
     "execution_count": 10,
     "metadata": {},
     "output_type": "execute_result"
    }
   ],
   "source": [
    "optimize!(m)\n",
    "\n",
    "objective_value(m)"
   ]
  },
  {
   "cell_type": "code",
   "execution_count": 11,
   "id": "1910a568",
   "metadata": {},
   "outputs": [
    {
     "name": "stdout",
     "output_type": "stream",
     "text": [
      "count = 1260\n"
     ]
    },
    {
     "data": {
      "text/plain": [
       "1260"
      ]
     },
     "execution_count": 11,
     "metadata": {},
     "output_type": "execute_result"
    }
   ],
   "source": [
    "count = 0\n",
    "x_sol = value.(x)\n",
    "for i in 1:nP, j in 1:nP, k in 1:nT\n",
    "    if x_sol[i, j, k] != 0\n",
    "        count += 1\n",
    "    end\n",
    "end\n",
    "@show count"
   ]
  }
 ],
 "metadata": {
  "kernelspec": {
   "display_name": "Julia 1.8.1",
   "language": "julia",
   "name": "julia-1.8"
  },
  "language_info": {
   "file_extension": ".jl",
   "mimetype": "application/julia",
   "name": "julia",
   "version": "1.8.1"
  }
 },
 "nbformat": 4,
 "nbformat_minor": 5
}
