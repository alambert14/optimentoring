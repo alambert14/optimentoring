{
 "cells": [
  {
   "cell_type": "code",
   "execution_count": 72,
   "id": "f63f8ba8",
   "metadata": {},
   "outputs": [],
   "source": [
    "using CSV, DataFrames, JuMP, Gurobi, LinearAlgebra, Random"
   ]
  },
  {
   "cell_type": "code",
   "execution_count": 73,
   "id": "b99ef01c",
   "metadata": {},
   "outputs": [],
   "source": [
    "# Constants\n",
    "\n",
    "nP = 73 # number of people\n",
    "nT = 210 # number of timeslots in a week\n",
    "# Organized in 30 minute interals from 9am-12pm, Sunday-Saturday\n",
    "# 30 intervals/day * 7 days/week\n",
    "cM = 1e7 # multiplier for the minimal matching objective\n",
    "\n",
    "print(\"\")"
   ]
  },
  {
   "cell_type": "code",
   "execution_count": 74,
   "id": "53e40abe",
   "metadata": {},
   "outputs": [
    {
     "name": "stdout",
     "output_type": "stream",
     "text": [
      "size(A) = (73, 210)\n",
      "aR = Any[3, 0, 2, 0, 2, 2, 0, 0, 0, 2, 2, 0, 0, 2, 2, 2, 4, 0, 0, 0, 2, 0, 0, 0, 2, 0, 2, 1, 0, 2, 0, 0, 2, 3, 2, 0, 0, 2, 2, 3, 0, 3, 0, 0, 0, 0, 0, 2, 2, 0, 4, 0, 0, 3, 0, 0, 0, 0, 0, 0, 0, 1, 0, 2, 0, 0, 2, 0, 0, 0, 0, 0, 0]\n",
      "r = Any[-2, 9, 2, 9, 0, 2, 5, 9, 9, 5, 2, 4, 9, 5, 4, 4, -1, 5, 7, 9, 5, 10, 9, 7, 5, 9, 2, 5, 9, -3, 9, 9, 2, 1, 0, 8, 7, 2, 5, -3, 4, 0, 9, 5, 10, 2, 4, 2, 2, 9, 0, 9, 6, -1, 9, 9, 9, 9, 4, 9, 6, -1, 5, 0, -1, 5, 2, 9, 6, 0, 9, 9, 9]\n",
      "p = Any[1, 0, 1, 1, 1, 1, 1, 1, 0, 1, 1, 1, 1, 1, 1, 1, 1, 1, 1, 1, 1, 1, 1, 1, 1, 1, 1, 1, 1, 0, 0, 1, 0, 1, 1, 1, 1, 1, 1, 1, 1, 1, 1, 1, 1, 1, 1, 1, 1, 1, 1, 1, 1, 1, 1, 1, 1, 1, 1, 1, 1, 1, 1, 1, 1, 1, 1, 1, 1, 0, 1, 0, 1]\n",
      "s = Any[1, 1, 1, 1, 1, 1, 0, 1, 1, 1, 1, 1, 1, 0, 1, 1, 1, 1, 0, 1, 1, 1, 1, 1, 1, 1, 0, 0, 1, 1, 1, 1, 1, 0, 0, 1, 0, 1, 0, 0, 0, 1, 1, 1, 1, 0, 1, 0, 1, 1, 1, 1, 1, 1, 1, 1, 1, 0, 1, 0, 0, 1, 1, 1, 0, 1, 0, 0, 0, 1, 0, 1, 1]\n"
     ]
    }
   ],
   "source": [
    "# Load Data\n",
    "\n",
    "# 0-1 matrix of whether person can mentor/mentee at time T\n",
    "load_A = Matrix(CSV.read(\"schedules.csv\", DataFrame, header=0))[3:end, 2:end]  # nP x nT\n",
    "A = zeros(nP, nT)\n",
    "for i in 1:nP, j in 1:nT\n",
    "    A[i, j] = parse(Int64, load_A[i, j])\n",
    "end\n",
    "\n",
    "@show size(A)\n",
    "\n",
    "# for these, what if someone is only a mentor or only a mentee? would it be zero?\n",
    "aR = Matrix(CSV.read(\"num_sessions.csv\", DataFrame, header=0))[:, 2] # nP x 1: max num of session person can mentor\n",
    "# \n",
    "# aE = Matrix(CSV.read(\"max_menteeing.csv\", DataFrame)) # nP x 1: max num of session person can mentee (can we remove this?)\n",
    "r  = Matrix(CSV.read(\"rank.csv\", DataFrame, header=0))[:, 2]# nP x 1, rank\n",
    "\n",
    "# Don't we just need one per person? Lessens the amount of data, plus not everyone is a mentor or mentee\n",
    "p = Matrix(CSV.read(\"poomsae_pref.csv\", DataFrame, header=0))[:, 2]\n",
    "s = Matrix(CSV.read(\"sparring_pref.csv\", DataFrame, header=0))[:, 2]\n",
    "# pR = Matrix(CSV.read(\"mentor_poomsae.csv\", DataFrame)) # nP x 1: 0-1 does mentor prefer poomsae \n",
    "# pE = Matrix(CSV.read(\"mentee_poomsae.csv\", DataFrame)) # nP x 1: 0-1 does mentee prefer poomsae\n",
    "# sR = Matrix(CSV.read(\"mentor_sparring.csv\", DataFrame)) # nP x 1: 0-1 does mentor prefer sparring\n",
    "# sE = Matrix(CSV.read(\"mentee_sparring.csv\")) # nP x 1: 0-1 does mentee prefer sparring\n",
    "\n",
    "@show aR\n",
    "@show r\n",
    "@show p\n",
    "@show s\n",
    "\n",
    "\n",
    "print(\"\")"
   ]
  },
  {
   "cell_type": "code",
   "execution_count": 75,
   "id": "61e9b0d4",
   "metadata": {},
   "outputs": [],
   "source": [
    "# Create Cost Matrix\n",
    "\n",
    "alpha = 1\n",
    "beta  = 1\n",
    "\n",
    "C = zeros(nP, nP)\n",
    "\n",
    "# Adjusting to only have one set of data for sparring and poomsae preferences\n",
    "for i = 1:nP, j = 1:nP\n",
    "    C[i, j] += alpha * (r[j]-r[i]-2+(r[j] <= 0))\n",
    "    C[i, j] -= beta  * (p[i]*p[j]+s[i]*s[j]-2*(p[i]*s[i]))\n",
    "    C[i, j] -= 1\n",
    "end\n",
    "\n",
    "# for i = 1:nP, j = 1:nP\n",
    "#     C[i, j] += alpha * (r[i]-r[j]-2+(r[j] >= 9))\n",
    "#     C[i, j] -= beta  * (pR[i]*pE[j]+sR[i]*sE[j]-pR[i]*sR[i]-pE[j]*sE[j])\n",
    "#     C[i, j] -= 1\n",
    "# end\n"
   ]
  },
  {
   "cell_type": "code",
   "execution_count": 76,
   "id": "7af21f47",
   "metadata": {},
   "outputs": [],
   "source": [
    "# Rank Constraint Matrix\n",
    "# Adjust to be negative hehe\n",
    "\n",
    "R = zeros(nP, nP, nT)\n",
    "\n",
    "for i = 1:nP, j = 1:nP, T = 1:nT\n",
    "    if r[i] <= r[j]-2 || (r[i] <= r[j]-1 && r[j] <= 0)\n",
    "        R[i, j, T] = 1\n",
    "    end\n",
    "end\n",
    "\n",
    "R = convert(Array{Int64}, R);"
   ]
  },
  {
   "cell_type": "code",
   "execution_count": 77,
   "id": "66d24392",
   "metadata": {},
   "outputs": [
    {
     "name": "stdout",
     "output_type": "stream",
     "text": [
      "Set parameter Username\n",
      "Academic license - for non-commercial use only - expires 2023-12-03\n"
     ]
    }
   ],
   "source": [
    "m = Model(Gurobi.Optimizer)\n",
    "# set_optimizer_attribute(m, \"OutputFlag\", 0)\n",
    "\n",
    "print(\"\")"
   ]
  },
  {
   "cell_type": "code",
   "execution_count": null,
   "id": "dd370c7a",
   "metadata": {},
   "outputs": [],
   "source": [
    "@variable(m, 0 <= x[1:nP, 1:nP, 1:nT] <= 1, Int)\n",
    "@variable(m, 0 <= t[1:nP] <= 1, Int)\n",
    "\n",
    "print(\"\")"
   ]
  },
  {
   "cell_type": "code",
   "execution_count": null,
   "id": "ce12c06e",
   "metadata": {},
   "outputs": [],
   "source": [
    "# Rank Constraint (capacity constraint)\n",
    "@constraint(m, x .<= R);"
   ]
  },
  {
   "cell_type": "code",
   "execution_count": null,
   "id": "c538df7a",
   "metadata": {},
   "outputs": [],
   "source": [
    "# Maximum Constraints\n",
    "for P = 1:nP\n",
    "    @constraint(m, sum(x[i, P, T] for i=1:nP, T = 1:nT) <= 1);\n",
    "    @constraint(m, sum(x[P, i, T] for i=1:nP, T = 1:nT) <= aR[P]); # replaced with ones\n",
    "end"
   ]
  },
  {
   "cell_type": "code",
   "execution_count": null,
   "id": "3e9242aa",
   "metadata": {},
   "outputs": [],
   "source": []
  },
  {
   "cell_type": "code",
   "execution_count": null,
   "id": "4dd59bb0",
   "metadata": {},
   "outputs": [],
   "source": [
    "# Availability Constraints\n",
    "for i = 1:nP, j = i+1:nP, T=1:nT\n",
    "    @constraint(m, x[i,j,T] <= A[i,T]*A[j,T]);\n",
    "end"
   ]
  },
  {
   "cell_type": "code",
   "execution_count": null,
   "id": "2854a4b1",
   "metadata": {},
   "outputs": [],
   "source": [
    "# # THIS ONE TAKES TOO LONG\n",
    "\n",
    "# # Single Mentor Constraint\n",
    "# for i = 1:nP, j = i+1:nP, k = 1:nP, T=1:nT\n",
    "#     @constraint(m, x[i,k,T]+x[j,k,T] <= 1);\n",
    "# end"
   ]
  },
  {
   "cell_type": "code",
   "execution_count": null,
   "id": "92653123",
   "metadata": {},
   "outputs": [],
   "source": [
    "# Making t work\n",
    "for P = 1:nP\n",
    "    @constraint(m, sum(x[i,P,T] for i=1:nP, T=1:nT) >= t[P])\n",
    "    @constraint(m, 1*sum(x[i,P,T] for i=1:nP, T=1:nT) <= t[P]);  # make constraint integral\n",
    "end\n",
    "\n",
    "print(\"\")"
   ]
  },
  {
   "cell_type": "code",
   "execution_count": null,
   "id": "7a90a965",
   "metadata": {},
   "outputs": [],
   "source": [
    "@objective(m, Min, cM*sum((1-t[P]) for P=1:nP) + sum(x[i,j,T]*C[i,j] for i=1:nP, j=1:nP, T=1:nT))\n",
    "print(\"\")"
   ]
  },
  {
   "cell_type": "code",
   "execution_count": null,
   "id": "243b9425",
   "metadata": {},
   "outputs": [],
   "source": [
    "optimize!(m)\n",
    "\n",
    "objective_value(m)"
   ]
  },
  {
   "cell_type": "code",
   "execution_count": null,
   "id": "1910a568",
   "metadata": {},
   "outputs": [],
   "source": [
    "count = 0\n",
    "x_sol = value.(x)\n",
    "for i in 1:nP, j in 1:nP, k in 1:nT\n",
    "    if x_sol[i, j, k] != 0\n",
    "        count += 1\n",
    "    end\n",
    "end\n",
    "@show count"
   ]
  },
  {
   "cell_type": "code",
   "execution_count": null,
   "id": "852e5512",
   "metadata": {},
   "outputs": [],
   "source": [
    "names = Matrix(CSV.read(\"num_sessions.csv\", DataFrame, header=0))[:, 1]\n",
    "# @show names\n",
    "\n",
    "# count = 0\n",
    "# x_sol = value.(x)\n",
    "for i in 1:nP, j in 1:nP, k in 1:nT\n",
    "    if x_sol[i, j, k] != 0\n",
    "        print(\"$(names[i]), $(names[j]), $(x_sol[i, j, k])\\n\")\n",
    "    end\n",
    "end\n",
    "# @show count"
   ]
  }
 ],
 "metadata": {
  "kernelspec": {
   "display_name": "Julia 1.8.1",
   "language": "julia",
   "name": "julia-1.8"
  },
  "language_info": {
   "file_extension": ".jl",
   "mimetype": "application/julia",
   "name": "julia",
   "version": "1.8.1"
  }
 },
 "nbformat": 4,
 "nbformat_minor": 5
}
