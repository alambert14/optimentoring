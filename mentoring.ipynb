{
 "cells": [
  {
   "cell_type": "code",
   "execution_count": 4,
   "id": "f5215d72",
   "metadata": {},
   "outputs": [
    {
     "name": "stderr",
     "output_type": "stream",
     "text": [
      "\u001b[32m\u001b[1m   Resolving\u001b[22m\u001b[39m package versions...\n",
      "\u001b[32m\u001b[1m  No Changes\u001b[22m\u001b[39m to `~/.julia/environments/v1.8/Project.toml`\n",
      "\u001b[32m\u001b[1m  No Changes\u001b[22m\u001b[39m to `~/.julia/environments/v1.8/Manifest.toml`\n",
      "\u001b[32m\u001b[1m   Resolving\u001b[22m\u001b[39m package versions...\n",
      "\u001b[32m\u001b[1m  No Changes\u001b[22m\u001b[39m to `~/.julia/environments/v1.8/Project.toml`\n",
      "\u001b[32m\u001b[1m  No Changes\u001b[22m\u001b[39m to `~/.julia/environments/v1.8/Manifest.toml`\n"
     ]
    }
   ],
   "source": [
    "ENV[\"IJULIA_DEBUG\"]=true\n",
    "import Pkg; Pkg.add(\"JuMP\")\n",
    "Pkg.add(\"Gurobi\")\n",
    "using Gurobi\n",
    "\n",
    "using DataFrames, CSV\n",
    "using JuMP"
   ]
  },
  {
   "cell_type": "code",
   "execution_count": 5,
   "id": "1b44d8dd",
   "metadata": {},
   "outputs": [
    {
     "data": {
      "text/plain": [
       "50×2 Matrix{Float64}:\n",
       " 85.45    19.15\n",
       "  5.8242  68.119\n",
       " 99.657   72.79\n",
       " 63.366   92.143\n",
       " 41.421   73.084\n",
       " 61.369   50.405\n",
       " 99.738   14.051\n",
       " 63.092   74.788\n",
       " 49.123    8.6421\n",
       "  6.4015   1.2557\n",
       " 83.286   14.437\n",
       " 38.906   35.617\n",
       " 72.829   30.488\n",
       "  ⋮       \n",
       "  1.5279  51.627\n",
       "  1.4406  32.745\n",
       " 51.475   39.177\n",
       " 28.904   36.184\n",
       " 27.421   18.035\n",
       "  6.9819  42.147\n",
       "  7.478   84.236\n",
       " 86.416    6.6111\n",
       " 78.93    99.13\n",
       " 35.57    52.772\n",
       "  4.8863  50.596\n",
       " 34.388   22.904"
      ]
     },
     "execution_count": 5,
     "metadata": {},
     "output_type": "execute_result"
    }
   ],
   "source": [
    "centers = CSV.read(\"centers.csv\", DataFrame, header=0)\n",
    "landfills = CSV.read(\"landfills.csv\", DataFrame, header=0)\n",
    "q = CSV.read(\"q.csv\", DataFrame, header=0)\n",
    "stations = CSV.read(\"stations.csv\", DataFrame, header=0)\n",
    "\n",
    "centers = Matrix(centers)\n",
    "landfills = Matrix(landfills)\n",
    "q = Matrix(q)\n",
    "stations = Matrix(stations)"
   ]
  },
  {
   "cell_type": "code",
   "execution_count": 27,
   "id": "2795a729",
   "metadata": {},
   "outputs": [
    {
     "name": "stdout",
     "output_type": "stream",
     "text": [
      "Set parameter Username\n",
      "Academic license - for non-commercial use only - expires 2023-09-22\n"
     ]
    },
    {
     "data": {
      "text/plain": [
       "50-element Vector{VariableRef}:\n",
       " s[1]\n",
       " s[2]\n",
       " s[3]\n",
       " s[4]\n",
       " s[5]\n",
       " s[6]\n",
       " s[7]\n",
       " s[8]\n",
       " s[9]\n",
       " s[10]\n",
       " s[11]\n",
       " s[12]\n",
       " s[13]\n",
       " ⋮\n",
       " s[39]\n",
       " s[40]\n",
       " s[41]\n",
       " s[42]\n",
       " s[43]\n",
       " s[44]\n",
       " s[45]\n",
       " s[46]\n",
       " s[47]\n",
       " s[48]\n",
       " s[49]\n",
       " s[50]"
      ]
     },
     "execution_count": 27,
     "metadata": {},
     "output_type": "execute_result"
    }
   ],
   "source": [
    "mp = Model(Gurobi.Optimizer)\n",
    "\n",
    "# Add variables\n",
    "@variable(mp, x_ij[1:50, 1:15])  # Waste transported from center i to landfill j directly\n",
    "@variable(mp, x_ik[1:50, 1:50])  # Waste transported from center i to station k first\n",
    "@variable(mp, x_kj[1:50, 1:15])  # Waste transported from station k to landfill j\n",
    "@variable(mp, z[1:15], Int)  # if landfill j is built\n",
    "@variable(mp, s[1:50], Int)  # if compact station k is built"
   ]
  },
  {
   "cell_type": "code",
   "execution_count": 38,
   "id": "fcb36a02",
   "metadata": {},
   "outputs": [],
   "source": [
    "# Define distance parameters\n",
    "d_ij = zeros(50, 15)\n",
    "for i in 1:50\n",
    "    for j in 1:15\n",
    "        d_ij[i, j] = sqrt((centers[i,1] - landfills[j,1])^2 + (centers[i,2] - landfills[j,2])^2)\n",
    "    end\n",
    "end\n",
    "d_ik = zeros(50, 50)\n",
    "for i in 1:50\n",
    "    for k in 1:50\n",
    "        d_ik[i, k] = sqrt((centers[i,1] - stations[k,1])^2 + (centers[i,2] - stations[k,2])^2)\n",
    "    end\n",
    "end\n",
    "d_kj = zeros(50, 15)\n",
    "for k in 1:50\n",
    "    for j in 1:15\n",
    "        d_kj[k, j] = sqrt((stations[k,1] - landfills[j,1])^2 + (stations[k,2] - landfills[j,2])^2)\n",
    "    end\n",
    "end\n",
    "\n",
    "# objective function\n",
    "@objective(mp, Min, sum(d_ij[i, j] * x_ij[i, j] for i in 1:50, j in 1:15) + sum(d_ik[i, k] * x_ik[i,k] for i in 1:50, k in 1:50) + sum(d_kj[k, j] * x_kj[k, j] * 0.5 for k in 1:50, j in 1:15) + sum(10000 * s[k] for k in 1:50));"
   ]
  },
  {
   "cell_type": "code",
   "execution_count": 39,
   "id": "ce0ab804",
   "metadata": {},
   "outputs": [],
   "source": [
    "# Ensure all of the waste leaves the centers\n",
    "for i in 1:50\n",
    "    @constraint(mp, sum(x_ij[i,j] for j in 1:15) + sum(x_ik[i,k] for k in 1:50) .>= q[i]);\n",
    "end\n",
    "\n",
    "# Ensure that waste can only go to a landfill if it is built\n",
    "for j in 1:15\n",
    "    for i in 1:50\n",
    "        @constraint(mp, x_ij[i,j] .<= 1000000 .* z[j]);\n",
    "    end\n",
    "    for k in 1:50\n",
    "        @constraint(mp, x_kj[k,j] .<= 1000000 .* z[j]);\n",
    "    end\n",
    "end\n",
    "\n",
    "# Ensure that waste can only go to a station if it is built\n",
    "# Ensure that if waste goes in a station it must come out\n",
    "# Ensure that no more than 2000 tons is processed in each station\n",
    "for k in 1:50\n",
    "    for i in 1:50\n",
    "        @constraint(mp, x_ik[i,k] .<= 1000000 .* s[k]);\n",
    "    end\n",
    "    \n",
    "    @constraint(mp, sum(x_ik[i,k] for i in 1:50) - sum(x_kj[k, j] for j in 1:15) .<= 0.);\n",
    "    \n",
    "    @constraint(mp, sum(x_ik[i,k] for i in 1:50) .<= 2000);\n",
    "end\n",
    "\n",
    "# Can only build 5 landfills\n",
    "@constraint(mp, sum(z[j] for j in 1:15) .<= 5)\n",
    "\n",
    "@constraint(mp, x_ij .>= zeros(50, 15));\n",
    "@constraint(mp, x_ik .>= zeros(50, 50));\n",
    "@constraint(mp, x_kj .>= zeros(50, 15));"
   ]
  },
  {
   "cell_type": "code",
   "execution_count": 40,
   "id": "312ab29c",
   "metadata": {
    "scrolled": true
   },
   "outputs": [
    {
     "name": "stdout",
     "output_type": "stream",
     "text": [
      "Gurobi Optimizer version 9.5.1 build v9.5.1rc2 (linux64)\n",
      "Thread count: 4 physical cores, 8 logical processors, using up to 8 threads\n",
      "Optimize a model with 16302 rows, 4065 columns and 42030 nonzeros\n",
      "Model fingerprint: 0xd2a0bd79\n",
      "Variable types: 4000 continuous, 65 integer (0 binary)\n",
      "Coefficient statistics:\n",
      "  Matrix range     [1e+00, 1e+06]\n",
      "  Objective range  [1e+00, 1e+04]\n",
      "  Bounds range     [0e+00, 0e+00]\n",
      "  RHS range        [5e+00, 2e+03]\n",
      "\n",
      "MIP start from previous solve produced solution with objective 808643 (0.01s)\n",
      "Loaded MIP start from previous solve with objective 808643\n",
      "\n",
      "Presolve removed 12151 rows and 0 columns\n",
      "Presolve time: 0.03s\n",
      "Presolved: 4151 rows, 4065 columns, 17065 nonzeros\n",
      "Variable types: 4000 continuous, 65 integer (50 binary)\n",
      "\n",
      "Root relaxation: objective 7.454420e+05, 413 iterations, 0.01 seconds (0.01 work units)\n",
      "\n",
      "    Nodes    |    Current Node    |     Objective Bounds      |     Work\n",
      " Expl Unexpl |  Obj  Depth IntInf | Incumbent    BestBd   Gap | It/Node Time\n",
      "\n",
      "     0     0 745442.007    0   20 808642.754 745442.007  7.82%     -    0s\n",
      "     0     0 761380.158    0   33 808642.754 761380.158  5.84%     -    0s\n",
      "     0     0 776477.899    0   30 808642.754 776477.899  3.98%     -    0s\n",
      "     0     0 780499.562    0   28 808642.754 780499.562  3.48%     -    0s\n",
      "     0     0 784786.753    0   40 808642.754 784786.753  2.95%     -    0s\n",
      "     0     0 785295.651    0   39 808642.754 785295.651  2.89%     -    0s\n",
      "     0     0 785576.357    0   41 808642.754 785576.357  2.85%     -    0s\n",
      "     0     0 785823.113    0   39 808642.754 785823.113  2.82%     -    0s\n",
      "     0     0 787252.019    0   40 808642.754 787252.019  2.65%     -    0s\n",
      "     0     0 787576.814    0   34 808642.754 787576.814  2.61%     -    0s\n",
      "     0     0 787576.814    0   34 808642.754 787576.814  2.61%     -    0s\n",
      "     0     2 787576.814    0   34 808642.754 787576.814  2.61%     -    0s\n",
      "\n",
      "Cutting planes:\n",
      "  Gomory: 1\n",
      "  MIR: 39\n",
      "\n",
      "Explored 94 nodes (2517 simplex iterations) in 0.42 seconds (0.54 work units)\n",
      "Thread count was 8 (of 8 available processors)\n",
      "\n",
      "Solution count 1: 808643 \n",
      "\n",
      "Optimal solution found (tolerance 1.00e-04)\n",
      "Best objective 8.086427541913e+05, best bound 8.086427541913e+05, gap 0.0000%\n",
      "\n",
      "User-callback calls 685, time in user-callback 0.00 sec\n"
     ]
    },
    {
     "data": {
      "text/plain": [
       "808642.7541913454"
      ]
     },
     "execution_count": 40,
     "metadata": {},
     "output_type": "execute_result"
    }
   ],
   "source": [
    "optimize!(mp)\n",
    "\n",
    "objective_value(mp)"
   ]
  },
  {
   "cell_type": "code",
   "execution_count": 45,
   "id": "898e2e7e",
   "metadata": {
    "scrolled": true
   },
   "outputs": [
    {
     "name": "stdout",
     "output_type": "stream",
     "text": [
      "value.(z) = [0.0, 0.0, 1.0, 1.0, 0.0, 0.0, 1.0, 0.0, 0.0, 0.0, 0.0, 0.0, 1.0, 1.0, 0.0]\n",
      "value.(s) = [0.0, 0.0, 0.0, 1.0, 0.0, 0.0, 0.0, 0.0, 0.0, 0.0, 0.0, 1.0, 0.0, 0.0, 0.0, 0.0, 0.0, 0.0, 0.0, 0.0, 1.0, 0.0, 1.0, 0.0, 0.0, 0.0, 0.0, 0.0, 0.0, 1.0, 1.0, 1.0, 0.0, 0.0, 0.0, 0.0, 0.0, 0.0, 1.0, 0.0, 0.0, 0.0, 0.0, 0.0, 1.0, 0.0, 0.0, 0.0, 0.0, 0.0]\n",
      "count = 9\n"
     ]
    },
    {
     "data": {
      "text/plain": [
       "9"
      ]
     },
     "execution_count": 45,
     "metadata": {},
     "output_type": "execute_result"
    }
   ],
   "source": [
    "@show value.(z)\n",
    "@show value.(s)\n",
    "\n",
    "\n",
    "# Number of stations built\n",
    "count = 0\n",
    "for k in 1:50\n",
    "    if value.(s)[k] == 1\n",
    "        count += 1\n",
    "    end\n",
    "end\n",
    "\n",
    "@show count"
   ]
  },
  {
   "cell_type": "code",
   "execution_count": 46,
   "id": "bc183a63",
   "metadata": {},
   "outputs": [
    {
     "name": "stdout",
     "output_type": "stream",
     "text": [
      "miles_tons = 876496.7565920389\n"
     ]
    },
    {
     "data": {
      "text/plain": [
       "876496.7565920389"
      ]
     },
     "execution_count": 46,
     "metadata": {},
     "output_type": "execute_result"
    }
   ],
   "source": [
    "# Calculate total waste-miles\n",
    "miles_tons = sum(d_ij[i, j] * value.(x_ij)[i, j] for i in 1:50, j in 1:15) + sum(d_ik[i, k] * value.(x_ik)[i,k] for i in 1:50, k in 1:50) + sum(d_kj[k, j] * value.(x_kj)[k, j] for k in 1:50, j in 1:15);\n",
    "\n",
    "@show miles_tons"
   ]
  },
  {
   "cell_type": "code",
   "execution_count": 43,
   "id": "22289e34",
   "metadata": {},
   "outputs": [
    {
     "name": "stdout",
     "output_type": "stream",
     "text": [
      "costs = 718642.7541913454\n"
     ]
    },
    {
     "data": {
      "text/plain": [
       "718642.7541913454"
      ]
     },
     "execution_count": 43,
     "metadata": {},
     "output_type": "execute_result"
    }
   ],
   "source": [
    "costs = sum(d_ij[i, j] * value.(x_ij)[i, j] for i in 1:50, j in 1:15) + sum(d_ik[i, k] * value.(x_ik)[i,k] for i in 1:50, k in 1:50) + sum(d_kj[k, j] * value.(x_kj)[k, j] * 0.5 for k in 1:50, j in 1:15);\n",
    "\n",
    "@show costs "
   ]
  },
  {
   "cell_type": "code",
   "execution_count": 44,
   "id": "ac4dd3b3",
   "metadata": {},
   "outputs": [
    {
     "name": "stdout",
     "output_type": "stream",
     "text": [
      "total_costs = 808642.7541913454\n"
     ]
    },
    {
     "data": {
      "text/plain": [
       "808642.7541913454"
      ]
     },
     "execution_count": 44,
     "metadata": {},
     "output_type": "execute_result"
    }
   ],
   "source": [
    "total_costs = sum(d_ij[i, j] * value.(x_ij)[i, j] for i in 1:50, j in 1:15) + sum(d_ik[i, k] * value.(x_ik)[i,k] for i in 1:50, k in 1:50) + sum(d_kj[k, j] * value.(x_kj)[k, j] * 0.5 for k in 1:50, j in 1:15) + sum(10000 * value.(s)[k] for k in 1:50);\n",
    "\n",
    "@show total_costs"
   ]
  }
 ],
 "metadata": {
  "kernelspec": {
   "display_name": "Python 3",
   "language": "python",
   "name": "python3"
  },
  "language_info": {
   "codemirror_mode": {
    "name": "ipython",
    "version": 3
   },
   "file_extension": ".py",
   "mimetype": "text/x-python",
   "name": "python",
   "nbconvert_exporter": "python",
   "pygments_lexer": "ipython3",
   "version": "3.8.8"
  }
 },
 "nbformat": 4,
 "nbformat_minor": 5
}
